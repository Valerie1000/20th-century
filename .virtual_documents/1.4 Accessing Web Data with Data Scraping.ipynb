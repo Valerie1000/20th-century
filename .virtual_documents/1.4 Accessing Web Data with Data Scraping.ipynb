








import pandas as pd
import time
from selenium import webdriver
from webdriver_manager.chrome import ChromeDriverManager
from selenium.webdriver.common.by import By
from selenium.webdriver.chrome.service import Service
from selenium.webdriver.chrome.options import Options
import matplotlib.pyplot as plt
import os
import logging
import requests
import bs4





chrome_options = Options()
chrome_options.add_argument("--headless") # Ensure GUI is off
chrome_options.add_argument("--no-sandbox")





from selenium import webdriver
from selenium.webdriver.chrome.service import Service
from webdriver_manager.chrome import ChromeDriverManager

# Create a Service object
service = Service(ChromeDriverManager().install())

# Launch the Chrome browser
driver = webdriver.Chrome(service=service)


# Get the page's contents

page_url = "https://en.wikipedia.org/wiki/Key_events_of_the_20th_century"
driver.get(page_url)


# Step 2: Wait for page to fully load (simple wait)
time.sleep(3)


# Step 3: Locate the main content block by class name
content_elements = driver.find_elements(By.CLASS_NAME, "mw-parser-output")


# Step 4: Extract and join text from all child elements
page_text = ""
for element in content_elements:
    page_text += element.text


# Step 5: Save the content to a .txt file
with open("key_events_20th_century.txt", "w", encoding="utf-8") as f:
    f.write(page_text)


# Step 6: Clean up
driver.quit()



