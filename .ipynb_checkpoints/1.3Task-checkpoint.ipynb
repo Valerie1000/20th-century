{
 "cells": [
  {
   "cell_type": "markdown",
   "id": "e512e009-3ca2-4948-a7ff-edff4ab91ad8",
   "metadata": {},
   "source": [
    "### Install libraries and import them"
   ]
  },
  {
   "cell_type": "code",
   "execution_count": 7,
   "id": "fa58b5b0-c8a0-4dff-97f5-9ff99c92aef4",
   "metadata": {},
   "outputs": [
    {
     "name": "stdout",
     "output_type": "stream",
     "text": [
      "Channels:\n",
      " - defaults\n",
      "Platform: win-64\n",
      "Collecting package metadata (repodata.json): ...working... done\n",
      "Solving environment: ...working... done\n",
      "\n",
      "# All requested packages already installed.\n",
      "\n",
      "\n",
      "Note: you may need to restart the kernel to use updated packages.\n"
     ]
    }
   ],
   "source": [
    "conda install pandas numpy"
   ]
  },
  {
   "cell_type": "code",
   "execution_count": 8,
   "id": "77a86bc8-618b-4c57-a0d2-a0426c9e115e",
   "metadata": {},
   "outputs": [],
   "source": [
    "import pandas as pd\n",
    "import numpy as np"
   ]
  },
  {
   "cell_type": "markdown",
   "id": "a83c058e-e934-47f2-b7e3-c470e82736cf",
   "metadata": {},
   "source": [
    "### Confirm where Python and packages are being loaded from"
   ]
  },
  {
   "cell_type": "code",
   "execution_count": 6,
   "id": "228cb046-d8df-4b9f-a6dd-b62aee371d7a",
   "metadata": {},
   "outputs": [
    {
     "name": "stdout",
     "output_type": "stream",
     "text": [
      "['C:\\\\Users\\\\valev\\\\anaconda3\\\\envs\\\\venv_20th_century\\\\python313.zip', 'C:\\\\Users\\\\valev\\\\anaconda3\\\\envs\\\\venv_20th_century\\\\DLLs', 'C:\\\\Users\\\\valev\\\\anaconda3\\\\envs\\\\venv_20th_century\\\\Lib', 'C:\\\\Users\\\\valev\\\\anaconda3\\\\envs\\\\venv_20th_century', '', 'C:\\\\Users\\\\valev\\\\anaconda3\\\\envs\\\\venv_20th_century\\\\Lib\\\\site-packages', 'C:\\\\Users\\\\valev\\\\anaconda3\\\\envs\\\\venv_20th_century\\\\Lib\\\\site-packages\\\\win32', 'C:\\\\Users\\\\valev\\\\anaconda3\\\\envs\\\\venv_20th_century\\\\Lib\\\\site-packages\\\\win32\\\\lib', 'C:\\\\Users\\\\valev\\\\anaconda3\\\\envs\\\\venv_20th_century\\\\Lib\\\\site-packages\\\\Pythonwin']\n"
     ]
    }
   ],
   "source": [
    "import sys\n",
    "print(sys.path)"
   ]
  },
  {
   "cell_type": "markdown",
   "id": "8af63aea-e84d-4445-b905-3c48c1212ff5",
   "metadata": {},
   "source": [
    "### 5.\tCreate random data using the pd.DataFrame() function in your new notebook. The test dataframe should contain at least one numeric and one text column."
   ]
  },
  {
   "cell_type": "code",
   "execution_count": 14,
   "id": "c07df62c-0174-428c-9fdd-ecf5a9e41bdd",
   "metadata": {},
   "outputs": [],
   "source": [
    "df = pd.DataFrame({\n",
    "    'Name': ['Andrea', 'Daniel', 'Natalie', 'Jenny', 'Minho'],\n",
    "    'Score': [60, 75, 88, 97, 58]\n",
    "})"
   ]
  },
  {
   "cell_type": "code",
   "execution_count": 15,
   "id": "8806c5d6-334d-4ba7-853c-e1cd1760bede",
   "metadata": {},
   "outputs": [
    {
     "data": {
      "text/html": [
       "<div>\n",
       "<style scoped>\n",
       "    .dataframe tbody tr th:only-of-type {\n",
       "        vertical-align: middle;\n",
       "    }\n",
       "\n",
       "    .dataframe tbody tr th {\n",
       "        vertical-align: top;\n",
       "    }\n",
       "\n",
       "    .dataframe thead th {\n",
       "        text-align: right;\n",
       "    }\n",
       "</style>\n",
       "<table border=\"1\" class=\"dataframe\">\n",
       "  <thead>\n",
       "    <tr style=\"text-align: right;\">\n",
       "      <th></th>\n",
       "      <th>Name</th>\n",
       "      <th>Score</th>\n",
       "    </tr>\n",
       "  </thead>\n",
       "  <tbody>\n",
       "    <tr>\n",
       "      <th>0</th>\n",
       "      <td>Andrea</td>\n",
       "      <td>60</td>\n",
       "    </tr>\n",
       "    <tr>\n",
       "      <th>1</th>\n",
       "      <td>Daniel</td>\n",
       "      <td>75</td>\n",
       "    </tr>\n",
       "    <tr>\n",
       "      <th>2</th>\n",
       "      <td>Natalie</td>\n",
       "      <td>88</td>\n",
       "    </tr>\n",
       "    <tr>\n",
       "      <th>3</th>\n",
       "      <td>Jenny</td>\n",
       "      <td>97</td>\n",
       "    </tr>\n",
       "    <tr>\n",
       "      <th>4</th>\n",
       "      <td>Minho</td>\n",
       "      <td>58</td>\n",
       "    </tr>\n",
       "  </tbody>\n",
       "</table>\n",
       "</div>"
      ],
      "text/plain": [
       "      Name  Score\n",
       "0   Andrea     60\n",
       "1   Daniel     75\n",
       "2  Natalie     88\n",
       "3    Jenny     97\n",
       "4    Minho     58"
      ]
     },
     "execution_count": 15,
     "metadata": {},
     "output_type": "execute_result"
    }
   ],
   "source": [
    "df"
   ]
  },
  {
   "cell_type": "markdown",
   "id": "d56cbe55-125b-4d6b-84ed-725d313273bb",
   "metadata": {},
   "source": [
    "### 6.\tCreate a new column and execute a mathematical procedure (e.g., addition, subtraction, multiplication, division) in one of the existing columns using a lambda function"
   ]
  },
  {
   "cell_type": "code",
   "execution_count": 23,
   "id": "a5ddb90f-0740-4842-a775-7883ebe77ec3",
   "metadata": {},
   "outputs": [],
   "source": [
    "# scores get multiplied by 10% but cap at 100 and rounded to whole numbers\n",
    "df['with_bonus'] = df['Score'].apply(lambda x: round(min(x * 1.10, 100)))"
   ]
  },
  {
   "cell_type": "code",
   "execution_count": 22,
   "id": "c5440064-c9e4-48ed-bdcc-e7f05813ef2b",
   "metadata": {},
   "outputs": [
    {
     "data": {
      "text/html": [
       "<div>\n",
       "<style scoped>\n",
       "    .dataframe tbody tr th:only-of-type {\n",
       "        vertical-align: middle;\n",
       "    }\n",
       "\n",
       "    .dataframe tbody tr th {\n",
       "        vertical-align: top;\n",
       "    }\n",
       "\n",
       "    .dataframe thead th {\n",
       "        text-align: right;\n",
       "    }\n",
       "</style>\n",
       "<table border=\"1\" class=\"dataframe\">\n",
       "  <thead>\n",
       "    <tr style=\"text-align: right;\">\n",
       "      <th></th>\n",
       "      <th>Name</th>\n",
       "      <th>Score</th>\n",
       "      <th>with_bonus</th>\n",
       "    </tr>\n",
       "  </thead>\n",
       "  <tbody>\n",
       "    <tr>\n",
       "      <th>0</th>\n",
       "      <td>Andrea</td>\n",
       "      <td>60</td>\n",
       "      <td>66</td>\n",
       "    </tr>\n",
       "    <tr>\n",
       "      <th>1</th>\n",
       "      <td>Daniel</td>\n",
       "      <td>75</td>\n",
       "      <td>82</td>\n",
       "    </tr>\n",
       "    <tr>\n",
       "      <th>2</th>\n",
       "      <td>Natalie</td>\n",
       "      <td>88</td>\n",
       "      <td>97</td>\n",
       "    </tr>\n",
       "    <tr>\n",
       "      <th>3</th>\n",
       "      <td>Jenny</td>\n",
       "      <td>97</td>\n",
       "      <td>100</td>\n",
       "    </tr>\n",
       "    <tr>\n",
       "      <th>4</th>\n",
       "      <td>Minho</td>\n",
       "      <td>58</td>\n",
       "      <td>64</td>\n",
       "    </tr>\n",
       "  </tbody>\n",
       "</table>\n",
       "</div>"
      ],
      "text/plain": [
       "      Name  Score  with_bonus\n",
       "0   Andrea     60          66\n",
       "1   Daniel     75          82\n",
       "2  Natalie     88          97\n",
       "3    Jenny     97         100\n",
       "4    Minho     58          64"
      ]
     },
     "execution_count": 22,
     "metadata": {},
     "output_type": "execute_result"
    }
   ],
   "source": [
    "df"
   ]
  },
  {
   "cell_type": "markdown",
   "id": "f45be772-425b-4b38-b555-246bcd7d9a71",
   "metadata": {},
   "source": [
    "### 7.\tCreate a flag column from the text column in your example dataframe using a lambda function (e.g., if you have a country column, you can add a new column region and, using the lambda function, assign its country to its corresponding region). Recap note: A flag column is a type of data column used to indicate a certain condition or status. It’s typically a Boolean column with one of two values: true or false, but it could also be a label like in the “Alice” example"
   ]
  },
  {
   "cell_type": "code",
   "execution_count": 24,
   "id": "071f727a-dff7-4c5f-9310-11430b5b74da",
   "metadata": {},
   "outputs": [],
   "source": [
    "# Create \"A\" score flag (91 to 100 inclusive)\n",
    "df['A_score_flag'] = df['with_bonus'].apply(lambda x: 91 <= x <= 100)"
   ]
  },
  {
   "cell_type": "code",
   "execution_count": 25,
   "id": "a7ca6965-2063-49dc-8f9f-f32302ebc542",
   "metadata": {},
   "outputs": [
    {
     "data": {
      "text/html": [
       "<div>\n",
       "<style scoped>\n",
       "    .dataframe tbody tr th:only-of-type {\n",
       "        vertical-align: middle;\n",
       "    }\n",
       "\n",
       "    .dataframe tbody tr th {\n",
       "        vertical-align: top;\n",
       "    }\n",
       "\n",
       "    .dataframe thead th {\n",
       "        text-align: right;\n",
       "    }\n",
       "</style>\n",
       "<table border=\"1\" class=\"dataframe\">\n",
       "  <thead>\n",
       "    <tr style=\"text-align: right;\">\n",
       "      <th></th>\n",
       "      <th>Name</th>\n",
       "      <th>Score</th>\n",
       "      <th>with_bonus</th>\n",
       "      <th>A_score_flag</th>\n",
       "    </tr>\n",
       "  </thead>\n",
       "  <tbody>\n",
       "    <tr>\n",
       "      <th>0</th>\n",
       "      <td>Andrea</td>\n",
       "      <td>60</td>\n",
       "      <td>66</td>\n",
       "      <td>False</td>\n",
       "    </tr>\n",
       "    <tr>\n",
       "      <th>1</th>\n",
       "      <td>Daniel</td>\n",
       "      <td>75</td>\n",
       "      <td>82</td>\n",
       "      <td>False</td>\n",
       "    </tr>\n",
       "    <tr>\n",
       "      <th>2</th>\n",
       "      <td>Natalie</td>\n",
       "      <td>88</td>\n",
       "      <td>97</td>\n",
       "      <td>True</td>\n",
       "    </tr>\n",
       "    <tr>\n",
       "      <th>3</th>\n",
       "      <td>Jenny</td>\n",
       "      <td>97</td>\n",
       "      <td>100</td>\n",
       "      <td>True</td>\n",
       "    </tr>\n",
       "    <tr>\n",
       "      <th>4</th>\n",
       "      <td>Minho</td>\n",
       "      <td>58</td>\n",
       "      <td>64</td>\n",
       "      <td>False</td>\n",
       "    </tr>\n",
       "  </tbody>\n",
       "</table>\n",
       "</div>"
      ],
      "text/plain": [
       "      Name  Score  with_bonus  A_score_flag\n",
       "0   Andrea     60          66         False\n",
       "1   Daniel     75          82         False\n",
       "2  Natalie     88          97          True\n",
       "3    Jenny     97         100          True\n",
       "4    Minho     58          64         False"
      ]
     },
     "execution_count": 25,
     "metadata": {},
     "output_type": "execute_result"
    }
   ],
   "source": [
    "df"
   ]
  },
  {
   "cell_type": "code",
   "execution_count": null,
   "id": "80b3f1ba-57d8-4838-8234-e4fa9ede5844",
   "metadata": {},
   "outputs": [],
   "source": []
  }
 ],
 "metadata": {
  "kernelspec": {
   "display_name": "Python [conda env:venv_20th_century]",
   "language": "python",
   "name": "conda-env-venv_20th_century-py"
  },
  "language_info": {
   "codemirror_mode": {
    "name": "ipython",
    "version": 3
   },
   "file_extension": ".py",
   "mimetype": "text/x-python",
   "name": "python",
   "nbconvert_exporter": "python",
   "pygments_lexer": "ipython3",
   "version": "3.13.5"
  }
 },
 "nbformat": 4,
 "nbformat_minor": 5
}
