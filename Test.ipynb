{
 "cells": [
  {
   "cell_type": "markdown",
   "id": "ae85e8c7-9991-42f7-8250-976ded623603",
   "metadata": {},
   "source": [
    "# 20th Century"
   ]
  },
  {
   "cell_type": "markdown",
   "id": "5ed50894-d5ce-4ad3-9e01-ab1b8087c341",
   "metadata": {},
   "source": [
    "## Test page"
   ]
  },
  {
   "cell_type": "code",
   "execution_count": null,
   "id": "d2a0d024-535c-417a-b3b6-dad33a43a01f",
   "metadata": {},
   "outputs": [],
   "source": []
  }
 ],
 "metadata": {
  "kernelspec": {
   "display_name": "Python 3 (ipykernel)",
   "language": "python",
   "name": "python3"
  },
  "language_info": {
   "codemirror_mode": {
    "name": "ipython",
    "version": 3
   },
   "file_extension": ".py",
   "mimetype": "text/x-python",
   "name": "python",
   "nbconvert_exporter": "python",
   "pygments_lexer": "ipython3",
   "version": "3.12.7"
  }
 },
 "nbformat": 4,
 "nbformat_minor": 5
}
