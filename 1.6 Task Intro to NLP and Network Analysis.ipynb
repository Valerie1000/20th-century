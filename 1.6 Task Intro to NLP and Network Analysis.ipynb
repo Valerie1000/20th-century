{
 "cells": [
  {
   "cell_type": "markdown",
   "id": "42ccc194-4569-43a5-8d5d-49dadf1dc6aa",
   "metadata": {},
   "source": [
    "### Install requirements txt file \n",
    "    pip install -r requirements_1.6.txt"
   ]
  },
  {
   "cell_type": "markdown",
   "id": "2f7c67e9-ace9-44ee-af5f-0d693d99bbc9",
   "metadata": {},
   "source": [
    "### Import libraries"
   ]
  },
  {
   "cell_type": "code",
   "execution_count": 1,
   "id": "08922c84-5878-4336-9277-3edc7358590c",
   "metadata": {},
   "outputs": [],
   "source": [
    "import pandas as pd\n",
    "import numpy as np\n",
    "import spacy\n",
    "from spacy import displacy\n",
    "import networkx as nx\n",
    "import os\n",
    "import matplotlib.pyplot as plt\n",
    "import scipy\n",
    "import re"
   ]
  },
  {
   "cell_type": "code",
   "execution_count": 2,
   "id": "236452ba-3f77-4328-9b2e-1e2499821c6c",
   "metadata": {},
   "outputs": [
    {
     "name": "stdout",
     "output_type": "stream",
     "text": [
      "Collecting en-core-web-sm==3.8.0\n",
      "  Downloading https://github.com/explosion/spacy-models/releases/download/en_core_web_sm-3.8.0/en_core_web_sm-3.8.0-py3-none-any.whl (12.8 MB)\n",
      "     ---------------------------------------- 0.0/12.8 MB ? eta -:--:--\n",
      "      --------------------------------------- 0.3/12.8 MB ? eta -:--:--\n",
      "     --- ------------------------------------ 1.0/12.8 MB 4.1 MB/s eta 0:00:03\n",
      "     ----- ---------------------------------- 1.8/12.8 MB 4.0 MB/s eta 0:00:03\n",
      "     -------- ------------------------------- 2.6/12.8 MB 4.1 MB/s eta 0:00:03\n",
      "     ---------- ----------------------------- 3.4/12.8 MB 4.1 MB/s eta 0:00:03\n",
      "     ------------- -------------------------- 4.5/12.8 MB 4.1 MB/s eta 0:00:03\n",
      "     ---------------- ----------------------- 5.2/12.8 MB 4.1 MB/s eta 0:00:02\n",
      "     ------------------- -------------------- 6.3/12.8 MB 4.1 MB/s eta 0:00:02\n",
      "     --------------------- ------------------ 6.8/12.8 MB 4.1 MB/s eta 0:00:02\n",
      "     ----------------------- ---------------- 7.6/12.8 MB 4.0 MB/s eta 0:00:02\n",
      "     -------------------------- ------------- 8.4/12.8 MB 3.9 MB/s eta 0:00:02\n",
      "     --------------------------- ------------ 8.9/12.8 MB 3.9 MB/s eta 0:00:01\n",
      "     ------------------------------- -------- 10.0/12.8 MB 3.9 MB/s eta 0:00:01\n",
      "     -------------------------------- ------- 10.5/12.8 MB 3.9 MB/s eta 0:00:01\n",
      "     ---------------------------------- ----- 11.0/12.8 MB 3.8 MB/s eta 0:00:01\n",
      "     ------------------------------------ --- 11.8/12.8 MB 3.7 MB/s eta 0:00:01\n",
      "     -------------------------------------- - 12.3/12.8 MB 3.6 MB/s eta 0:00:01\n",
      "     ---------------------------------------  12.6/12.8 MB 3.6 MB/s eta 0:00:01\n",
      "     ---------------------------------------- 12.8/12.8 MB 3.5 MB/s eta 0:00:00\n",
      "\u001b[38;5;2m[+] Download and installation successful\u001b[0m\n",
      "You can now load the package via spacy.load('en_core_web_sm')\n"
     ]
    }
   ],
   "source": [
    "# Download English module\n",
    "\n",
    "!python -m spacy download en_core_web_sm"
   ]
  },
  {
   "cell_type": "code",
   "execution_count": 3,
   "id": "94440847-e428-4c90-9d35-14fc9e3499d6",
   "metadata": {},
   "outputs": [],
   "source": [
    "# Load spacy English module\n",
    "\n",
    "NER = spacy.load(\"en_core_web_sm\")"
   ]
  },
  {
   "cell_type": "markdown",
   "id": "e69ac707-b833-429b-8ccf-a230d5aa141f",
   "metadata": {},
   "source": [
    "### 3.\tLoad the twentieth-century text file."
   ]
  },
  {
   "cell_type": "code",
   "execution_count": 4,
   "id": "a2903771-3d2c-4e52-962e-33b7b0bf963f",
   "metadata": {},
   "outputs": [],
   "source": [
    "# Load the text file\n",
    "\n",
    "with open('key_events_20th_century.txt', 'r', errors='ignore') as file:\n",
    "    data = file.read().replace('\\n', ' ')"
   ]
  },
  {
   "cell_type": "code",
   "execution_count": 5,
   "id": "eb30f266-7a13-414b-9be8-19abb014fa7c",
   "metadata": {},
   "outputs": [
    {
     "name": "stdout",
     "output_type": "stream",
     "text": [
      "The 20th century changed the world in unprecedented ways. The World Wars sparked tension between countries and led to the creation of atomic bombs, the Cold War led to the Space Race and the creation of space-based rockets, and the World Wide Web was created. These advancements have played a significant role in citizens' lives and shaped the 21st century into what it is today. Historic events in the 20th century[edit] World at the beginning of the century[edit] Main article: Edwardian era The new beginning of the 20th century marked significant changes. The 1900s saw the decade herald a series of inventions, including the automobile, airplane and radio broadcasting. 1914 saw the completion of the Panama Canal. The Scramble for Africa continued in the 1900s and resulted in wars and genocide across the continent. The atrocities in the Congo Free State shocked the civilized world. From 1914 to 1918, the First World War, and its aftermath, caused major changes in the power balance of the w\n"
     ]
    }
   ],
   "source": [
    "print(data[:1000])  # Preview first 1000 characters"
   ]
  },
  {
   "cell_type": "code",
   "execution_count": 6,
   "id": "ea8816ea-486f-4cc5-86b7-c1dad88bfc9d",
   "metadata": {},
   "outputs": [],
   "source": [
    "# Load countries from CSV using pandas\n",
    "country_df = pd.read_csv('countries_list_20th_century_1.5.csv')\n",
    "\n",
    "# Convert to a list and strip whitespace\n",
    "country_list = country_df['country_name'].str.strip().str.lower().tolist()"
   ]
  },
  {
   "cell_type": "code",
   "execution_count": 7,
   "id": "6752557f-db67-4ad2-9cea-48b5c45e4273",
   "metadata": {},
   "outputs": [
    {
     "name": "stdout",
     "output_type": "stream",
     "text": [
      "['afghanistan', 'albania', 'algeria', 'andorra', 'angola', 'antigua and barbuda', 'argentina', 'armenia', 'australia', 'austria', 'azerbaijan', 'bahamas, the', 'bahrain', 'bangladesh', 'barbados', 'belarus', 'belgium', 'belize', 'benin', 'bhutan', 'bolivia', 'bosnia and herzegovina', 'botswana', 'brazil', 'brunei', 'bulgaria', 'burkina faso', 'burundi', 'cambodia', 'cameroon', 'canada', 'cape verde', 'central african republic', 'chad', 'chile', \"china, people's republic of\", 'colombia', 'comoros', 'congo, democratic republic of the', 'congo, republic of the', 'costa rica', 'croatia', 'cuba', 'cyprus', 'czech republic', 'denmark', 'djibouti', 'dominica', 'dominican republic', 'east timor', 'ecuador', 'egypt', 'el salvador', 'equatorial guinea', 'eritrea', 'estonia', 'eswatini', 'ethiopia', 'fiji', 'finland', 'france', 'gabon', 'gambia, the', 'georgia', 'germany', 'ghana', 'greece', 'grenada', 'guatemala', 'guinea', 'guinea', 'bissau', 'guyana', 'haiti', 'honduras', 'hungary', 'iceland', 'india', 'indonesia', 'iran', 'iraq', 'ireland', 'israel', 'italy', 'ivory coast', 'jamaica', 'japan', 'jordan', 'kazakhstan', 'kenya', 'kiribati', 'korea, north', 'korea, south', 'kuwait', 'kyrgyzstan', 'laos', 'latvia', 'lebanon', 'lesotho', 'liberia', 'libya', 'liechtenstein', 'lithuania', 'luxembourg', 'madagascar', 'malawi', 'malaysia', 'maldives', 'mali', 'malta', 'marshall islands', 'mauritania', 'mauritius', 'mexico', 'micronesia, federated states of', 'moldova', 'monaco', 'mongolia', 'montenegro', 'morocco', 'mozambique', 'myanmar', 'namibia', 'nauru', 'nepal', 'netherlands', 'new zealand', 'nicaragua', 'niger', 'nigeria', 'north macedonia', 'norway', 'oman', 'pakistan', 'palau', 'palestine', 'panama', 'papua new guinea', 'paraguay', 'peru', 'philippines', 'poland', 'portugal', 'qatar', 'romania', 'russia', 'rwanda', 'saint kitts and nevis', 'saint lucia', 'saint vincent and the grenadines', 'samoa', 'san marino', 'são tomé and príncipe', 'saudi arabia', 'senegal', 'serbia', 'seychelles', 'sierra leone', 'singapore', 'slovakia', 'slovenia', 'solomon islands', 'somalia', 'south africa', 'south sudan', 'spain', 'sri lanka', 'sudan', 'suriname', 'sweden', 'switzerland', 'syria', 'tajikistan', 'tanzania', 'thailand', 'togo', 'tonga', 'trinidad and tobago', 'tunisia', 'turkey', 'turkmenistan', 'tuvalu', 'uganda', 'ukraine', 'united arab emirates', 'united kingdom', 'united states', 'uruguay', 'uzbekistan', 'vanuatu', 'vatican city (holy see)', 'venezuela', 'vietnam', 'yemen', 'zambia', 'zimbabwe', 'abkhazia', 'artsakh', 'cook islands', \"donetsk people's republic\", 'kosovo', \"luhansk people's republic\", 'niue', 'northern cyprus', 'sahrawi arab democratic republic', 'somaliland', 'south ossetia', 'taiwan', 'transnistria']\n"
     ]
    }
   ],
   "source": [
    "print(country_list) "
   ]
  },
  {
   "cell_type": "markdown",
   "id": "1eba6f3d-6cf2-47f0-98ed-10364afc7e05",
   "metadata": {},
   "source": [
    "### 4.\tEvaluate whether the text needs wrangling—are there any special characters used? Are the names of the countries in your list the same as the names in the text? Write down your observations in a markdown cell and take the necessary steps to correct any issues you’ve found. If anything does need correcting, make sure you save your file as a .txt"
   ]
  },
  {
   "cell_type": "code",
   "execution_count": 8,
   "id": "cb518f89-53c7-430a-8991-fb2a432cc8f7",
   "metadata": {},
   "outputs": [
    {
     "data": {
      "text/plain": [
       "str"
      ]
     },
     "execution_count": 8,
     "metadata": {},
     "output_type": "execute_result"
    }
   ],
   "source": [
    "type(data)"
   ]
  },
  {
   "cell_type": "code",
   "execution_count": 9,
   "id": "b167d561-f3a3-417b-9b80-63a5aff8cf7c",
   "metadata": {},
   "outputs": [],
   "source": [
    "# Fix and clean the text\n",
    "cleaned = data.lower()\n",
    "cleaned = re.sub(r\"[^a-z0-9\\s.,'’“”‘-]\", \" \", cleaned)  # Replace non-standard chars with space\n",
    "cleaned = re.sub(r\"\\s+\", \" \", cleaned).strip()  # Normalize whitespace\n"
   ]
  },
  {
   "cell_type": "markdown",
   "id": "95d67a59-2df2-4c0d-bf04-ff2a170d0d8d",
   "metadata": {},
   "source": [
    "#### Removed all special characters"
   ]
  },
  {
   "cell_type": "code",
   "execution_count": 10,
   "id": "9c965f82-3db4-4de5-95f2-8798f9b2f6b4",
   "metadata": {},
   "outputs": [
    {
     "name": "stdout",
     "output_type": "stream",
     "text": [
      "the 20th century changed the world in unprecedented ways. the world wars sparked tension between countries and led to the creation of atomic bombs, the cold war led to the space race and the creation of space-based rockets, and the world wide web was created. these advancements have played a significant role in citizens' lives and shaped the 21st century into what it is today. historic events in the 20th century edit world at the beginning of the century edit main article edwardian era the new beginning of the 20th century marked significant changes. the 1900s saw the decade herald a series of inventions, including the automobile, airplane and radio broadcasting. 1914 saw the completion of the panama canal. the scramble for africa continued in the 1900s and resulted in wars and genocide across the continent. the atrocities in the congo free state shocked the civilized world. from 1914 to 1918, the first world war, and its aftermath, caused major changes in the power balance of the worl\n"
     ]
    }
   ],
   "source": [
    "print(cleaned[:1000])"
   ]
  },
  {
   "cell_type": "code",
   "execution_count": 11,
   "id": "d49ae388-39ee-48f8-9342-901856a800d0",
   "metadata": {},
   "outputs": [],
   "source": [
    "# Save cleaned\n",
    "with open(\"cleaned_text.txt\", \"w\", encoding=\"utf-8\") as f:\n",
    "    f.write(cleaned)\n"
   ]
  },
  {
   "cell_type": "code",
   "execution_count": 12,
   "id": "c8213105-fa6c-475f-9d14-e893797ccc00",
   "metadata": {},
   "outputs": [],
   "source": [
    "country_aliases = {\n",
    "    'korea, north': 'north korea',\n",
    "    'korea, south': 'south korea',\n",
    "    \"china, people's republic of\": 'china',\n",
    "    'congo, democratic republic of the': 'congo',\n",
    "    # add more as needed\n",
    "}\n"
   ]
  },
  {
   "cell_type": "code",
   "execution_count": 13,
   "id": "4f6e95f5-6140-4e77-8da1-19e74b1f3fcb",
   "metadata": {},
   "outputs": [
    {
     "name": "stdout",
     "output_type": "stream",
     "text": [
      "Countries found in text: ['afghanistan', 'albania', 'algeria', 'angola', 'australia', 'austria', 'bangladesh', 'belarus', 'belgium', 'bulgaria', 'cambodia', 'canada', 'cape verde', \"china, people's republic of\", 'congo, democratic republic of the', 'cuba', 'denmark', 'egypt', 'estonia', 'finland', 'france', 'germany', 'ghana', 'greece', 'guinea', 'guinea', 'bissau', 'hungary', 'india', 'iran', 'iraq', 'israel', 'italy', 'japan', 'kenya', 'korea, north', 'korea, south', 'laos', 'latvia', 'lebanon', 'libya', 'lithuania', 'luxembourg', 'mexico', 'mongolia', 'morocco', 'mozambique', 'netherlands', 'norway', 'pakistan', 'panama', 'papua new guinea', 'philippines', 'poland', 'romania', 'russia', 'rwanda', 'seychelles', 'singapore', 'solomon islands', 'south africa', 'spain', 'sweden', 'thailand', 'ukraine', 'united kingdom', 'united states', 'vietnam']\n"
     ]
    }
   ],
   "source": [
    "found_countries = []\n",
    "not_found_countries = []\n",
    "\n",
    "for country in country_list:\n",
    "    # Use alias if available, else use original\n",
    "    alias = country_aliases.get(country, country)\n",
    "    \n",
    "    if re.search(rf'\\b{re.escape(alias)}\\b', cleaned):\n",
    "        found_countries.append(country)\n",
    "    else:\n",
    "        not_found_countries.append(country)\n",
    "\n",
    "print(\"Countries found in text:\", found_countries)"
   ]
  },
  {
   "cell_type": "code",
   "execution_count": 14,
   "id": "7ac79c89-7a44-48bf-b8ae-9c18f1a0274c",
   "metadata": {},
   "outputs": [
    {
     "name": "stdout",
     "output_type": "stream",
     "text": [
      "Countries not found in text: ['andorra', 'antigua and barbuda', 'argentina', 'armenia', 'azerbaijan', 'bahamas, the', 'bahrain', 'barbados', 'belize', 'benin', 'bhutan', 'bolivia', 'bosnia and herzegovina', 'botswana', 'brazil', 'brunei', 'burkina faso', 'burundi', 'cameroon', 'central african republic', 'chad', 'chile', 'colombia', 'comoros', 'congo, republic of the', 'costa rica', 'croatia', 'cyprus', 'czech republic', 'djibouti', 'dominica', 'dominican republic', 'east timor', 'ecuador', 'el salvador', 'equatorial guinea', 'eritrea', 'eswatini', 'ethiopia', 'fiji', 'gabon', 'gambia, the', 'georgia', 'grenada', 'guatemala', 'guyana', 'haiti', 'honduras', 'iceland', 'indonesia', 'ireland', 'ivory coast', 'jamaica', 'jordan', 'kazakhstan', 'kiribati', 'kuwait', 'kyrgyzstan', 'lesotho', 'liberia', 'liechtenstein', 'madagascar', 'malawi', 'malaysia', 'maldives', 'mali', 'malta', 'marshall islands', 'mauritania', 'mauritius', 'micronesia, federated states of', 'moldova', 'monaco', 'montenegro', 'myanmar', 'namibia', 'nauru', 'nepal', 'new zealand', 'nicaragua', 'niger', 'nigeria', 'north macedonia', 'oman', 'palau', 'palestine', 'paraguay', 'peru', 'portugal', 'qatar', 'saint kitts and nevis', 'saint lucia', 'saint vincent and the grenadines', 'samoa', 'san marino', 'são tomé and príncipe', 'saudi arabia', 'senegal', 'serbia', 'sierra leone', 'slovakia', 'slovenia', 'somalia', 'south sudan', 'sri lanka', 'sudan', 'suriname', 'switzerland', 'syria', 'tajikistan', 'tanzania', 'togo', 'tonga', 'trinidad and tobago', 'tunisia', 'turkey', 'turkmenistan', 'tuvalu', 'uganda', 'united arab emirates', 'uruguay', 'uzbekistan', 'vanuatu', 'vatican city (holy see)', 'venezuela', 'yemen', 'zambia', 'zimbabwe', 'abkhazia', 'artsakh', 'cook islands', \"donetsk people's republic\", 'kosovo', \"luhansk people's republic\", 'niue', 'northern cyprus', 'sahrawi arab democratic republic', 'somaliland', 'south ossetia', 'taiwan', 'transnistria']\n"
     ]
    }
   ],
   "source": [
    "print(\"Countries not found in text:\", not_found_countries)"
   ]
  },
  {
   "cell_type": "markdown",
   "id": "06061048-b276-42e0-93c4-f366be5f93e7",
   "metadata": {},
   "source": [
    "#### Found which countries from the list are and are not in the text. Created aliases for some countries that I verified existed in the text but were not matching. "
   ]
  },
  {
   "cell_type": "markdown",
   "id": "54b2196b-af1f-48ac-ae80-226c76ff64d4",
   "metadata": {},
   "source": [
    "### 5.\tUse the text file to create a NER object."
   ]
  },
  {
   "cell_type": "code",
   "execution_count": 15,
   "id": "bb5bfbf3-4cfb-4326-be11-029680c255ec",
   "metadata": {},
   "outputs": [],
   "source": [
    "book = NER(cleaned) # already lowercase and without special characters"
   ]
  },
  {
   "cell_type": "markdown",
   "id": "f7ebf2e2-1894-4406-8c6f-7ad598cf2b6c",
   "metadata": {},
   "source": [
    "### 6.\tSplit the sentence entities from the NER object."
   ]
  },
  {
   "cell_type": "code",
   "execution_count": 16,
   "id": "5637c815-76fe-4086-9a74-f58e075fa306",
   "metadata": {},
   "outputs": [],
   "source": [
    "df_sentences = [] # empty shell to store results\n",
    "\n",
    "# Loop through sentences, get entity list for each sentence\n",
    "for sent in book.sents:\n",
    "    entity_list = [ent.text for ent in sent.ents]\n",
    "    df_sentences.append({\"sentence\": sent, \"entities\": entity_list})\n",
    "    \n",
    "df_sentences = pd.DataFrame(df_sentences)"
   ]
  },
  {
   "cell_type": "code",
   "execution_count": 17,
   "id": "1fab6833-298e-4ce2-9482-1f0a379ca834",
   "metadata": {},
   "outputs": [
    {
     "data": {
      "text/html": [
       "<div>\n",
       "<style scoped>\n",
       "    .dataframe tbody tr th:only-of-type {\n",
       "        vertical-align: middle;\n",
       "    }\n",
       "\n",
       "    .dataframe tbody tr th {\n",
       "        vertical-align: top;\n",
       "    }\n",
       "\n",
       "    .dataframe thead th {\n",
       "        text-align: right;\n",
       "    }\n",
       "</style>\n",
       "<table border=\"1\" class=\"dataframe\">\n",
       "  <thead>\n",
       "    <tr style=\"text-align: right;\">\n",
       "      <th></th>\n",
       "      <th>sentence</th>\n",
       "      <th>entities</th>\n",
       "    </tr>\n",
       "  </thead>\n",
       "  <tbody>\n",
       "    <tr>\n",
       "      <th>0</th>\n",
       "      <td>(the, 20th, century, changed, the, world, in, ...</td>\n",
       "      <td>[the 20th century]</td>\n",
       "    </tr>\n",
       "    <tr>\n",
       "      <th>1</th>\n",
       "      <td>(the, world, wars, sparked, tension, between, ...</td>\n",
       "      <td>[]</td>\n",
       "    </tr>\n",
       "    <tr>\n",
       "      <th>2</th>\n",
       "      <td>(these, advancements, have, played, a, signifi...</td>\n",
       "      <td>[the 21st century, today]</td>\n",
       "    </tr>\n",
       "    <tr>\n",
       "      <th>3</th>\n",
       "      <td>(historic, events, in, the, 20th, century, edi...</td>\n",
       "      <td>[the 20th century, the beginning of the centur...</td>\n",
       "    </tr>\n",
       "    <tr>\n",
       "      <th>4</th>\n",
       "      <td>(the, 1900s, saw, the, decade, herald, a, seri...</td>\n",
       "      <td>[the 1900s, the decade]</td>\n",
       "    </tr>\n",
       "  </tbody>\n",
       "</table>\n",
       "</div>"
      ],
      "text/plain": [
       "                                            sentence  \\\n",
       "0  (the, 20th, century, changed, the, world, in, ...   \n",
       "1  (the, world, wars, sparked, tension, between, ...   \n",
       "2  (these, advancements, have, played, a, signifi...   \n",
       "3  (historic, events, in, the, 20th, century, edi...   \n",
       "4  (the, 1900s, saw, the, decade, herald, a, seri...   \n",
       "\n",
       "                                            entities  \n",
       "0                                 [the 20th century]  \n",
       "1                                                 []  \n",
       "2                          [the 21st century, today]  \n",
       "3  [the 20th century, the beginning of the centur...  \n",
       "4                            [the 1900s, the decade]  "
      ]
     },
     "execution_count": 17,
     "metadata": {},
     "output_type": "execute_result"
    }
   ],
   "source": [
    "df_sentences.head()"
   ]
  },
  {
   "cell_type": "code",
   "execution_count": 18,
   "id": "f6532545-b207-43d2-afe6-0fad19bc2898",
   "metadata": {},
   "outputs": [
    {
     "data": {
      "text/html": [
       "<div>\n",
       "<style scoped>\n",
       "    .dataframe tbody tr th:only-of-type {\n",
       "        vertical-align: middle;\n",
       "    }\n",
       "\n",
       "    .dataframe tbody tr th {\n",
       "        vertical-align: top;\n",
       "    }\n",
       "\n",
       "    .dataframe thead th {\n",
       "        text-align: right;\n",
       "    }\n",
       "</style>\n",
       "<table border=\"1\" class=\"dataframe\">\n",
       "  <thead>\n",
       "    <tr style=\"text-align: right;\">\n",
       "      <th></th>\n",
       "      <th>Unnamed: 0</th>\n",
       "      <th>country_name</th>\n",
       "    </tr>\n",
       "  </thead>\n",
       "  <tbody>\n",
       "    <tr>\n",
       "      <th>0</th>\n",
       "      <td>1</td>\n",
       "      <td>Afghanistan</td>\n",
       "    </tr>\n",
       "    <tr>\n",
       "      <th>1</th>\n",
       "      <td>2</td>\n",
       "      <td>Albania</td>\n",
       "    </tr>\n",
       "    <tr>\n",
       "      <th>2</th>\n",
       "      <td>3</td>\n",
       "      <td>Algeria</td>\n",
       "    </tr>\n",
       "    <tr>\n",
       "      <th>3</th>\n",
       "      <td>4</td>\n",
       "      <td>Andorra</td>\n",
       "    </tr>\n",
       "    <tr>\n",
       "      <th>4</th>\n",
       "      <td>5</td>\n",
       "      <td>Angola</td>\n",
       "    </tr>\n",
       "  </tbody>\n",
       "</table>\n",
       "</div>"
      ],
      "text/plain": [
       "   Unnamed: 0   country_name\n",
       "0           1   Afghanistan \n",
       "1           2       Albania \n",
       "2           3       Algeria \n",
       "3           4       Andorra \n",
       "4           5        Angola "
      ]
     },
     "execution_count": 18,
     "metadata": {},
     "output_type": "execute_result"
    }
   ],
   "source": [
    "country_df.head()"
   ]
  },
  {
   "cell_type": "code",
   "execution_count": 19,
   "id": "4dad43ec-4dbe-4e91-a239-7b2da852d2d0",
   "metadata": {},
   "outputs": [],
   "source": [
    "countries_df = country_df.drop(columns=[\"Unnamed: 0\"]) #remove Unnamed"
   ]
  },
  {
   "cell_type": "code",
   "execution_count": 20,
   "id": "ae610028-8d7c-4feb-8a3b-273725aca39d",
   "metadata": {},
   "outputs": [],
   "source": [
    "countries_df['country_name'] = countries_df['country_name'].str.lower()"
   ]
  },
  {
   "cell_type": "code",
   "execution_count": 21,
   "id": "040347e3-519a-424b-aae2-3b432fdc9f83",
   "metadata": {},
   "outputs": [
    {
     "data": {
      "text/html": [
       "<div>\n",
       "<style scoped>\n",
       "    .dataframe tbody tr th:only-of-type {\n",
       "        vertical-align: middle;\n",
       "    }\n",
       "\n",
       "    .dataframe tbody tr th {\n",
       "        vertical-align: top;\n",
       "    }\n",
       "\n",
       "    .dataframe thead th {\n",
       "        text-align: right;\n",
       "    }\n",
       "</style>\n",
       "<table border=\"1\" class=\"dataframe\">\n",
       "  <thead>\n",
       "    <tr style=\"text-align: right;\">\n",
       "      <th></th>\n",
       "      <th>country_name</th>\n",
       "    </tr>\n",
       "  </thead>\n",
       "  <tbody>\n",
       "    <tr>\n",
       "      <th>0</th>\n",
       "      <td>afghanistan</td>\n",
       "    </tr>\n",
       "    <tr>\n",
       "      <th>1</th>\n",
       "      <td>albania</td>\n",
       "    </tr>\n",
       "    <tr>\n",
       "      <th>2</th>\n",
       "      <td>algeria</td>\n",
       "    </tr>\n",
       "    <tr>\n",
       "      <th>3</th>\n",
       "      <td>andorra</td>\n",
       "    </tr>\n",
       "    <tr>\n",
       "      <th>4</th>\n",
       "      <td>angola</td>\n",
       "    </tr>\n",
       "  </tbody>\n",
       "</table>\n",
       "</div>"
      ],
      "text/plain": [
       "    country_name\n",
       "0   afghanistan \n",
       "1       albania \n",
       "2       algeria \n",
       "3       andorra \n",
       "4        angola "
      ]
     },
     "execution_count": 21,
     "metadata": {},
     "output_type": "execute_result"
    }
   ],
   "source": [
    "countries_df.head()"
   ]
  },
  {
   "cell_type": "code",
   "execution_count": 22,
   "id": "0c92cb0c-e747-4b05-ace2-b2b751151d36",
   "metadata": {},
   "outputs": [],
   "source": [
    "country_aliases = {\n",
    "    'korea, north': 'north korea',\n",
    "    'korea, south': 'south korea',\n",
    "    \"china, people's republic of\": 'china',\n",
    "    'congo, democratic republic of the': 'congo',\n",
    "    # add more as needed\n",
    "}"
   ]
  },
  {
   "cell_type": "code",
   "execution_count": 23,
   "id": "928bafc9-80c4-4d09-9a8c-9a0b3e3279e7",
   "metadata": {},
   "outputs": [],
   "source": [
    "# Map aliases: default to original name if not in aliases\n",
    "countries_df['country_alias'] = countries_df['country_name'].map(country_aliases)"
   ]
  },
  {
   "cell_type": "code",
   "execution_count": 24,
   "id": "367dcbfa-f864-487a-9c54-ddf0f1b94be0",
   "metadata": {},
   "outputs": [
    {
     "data": {
      "text/html": [
       "<div>\n",
       "<style scoped>\n",
       "    .dataframe tbody tr th:only-of-type {\n",
       "        vertical-align: middle;\n",
       "    }\n",
       "\n",
       "    .dataframe tbody tr th {\n",
       "        vertical-align: top;\n",
       "    }\n",
       "\n",
       "    .dataframe thead th {\n",
       "        text-align: right;\n",
       "    }\n",
       "</style>\n",
       "<table border=\"1\" class=\"dataframe\">\n",
       "  <thead>\n",
       "    <tr style=\"text-align: right;\">\n",
       "      <th></th>\n",
       "      <th>country_name</th>\n",
       "      <th>country_alias</th>\n",
       "    </tr>\n",
       "  </thead>\n",
       "  <tbody>\n",
       "    <tr>\n",
       "      <th>0</th>\n",
       "      <td>afghanistan</td>\n",
       "      <td>NaN</td>\n",
       "    </tr>\n",
       "    <tr>\n",
       "      <th>1</th>\n",
       "      <td>albania</td>\n",
       "      <td>NaN</td>\n",
       "    </tr>\n",
       "    <tr>\n",
       "      <th>2</th>\n",
       "      <td>algeria</td>\n",
       "      <td>NaN</td>\n",
       "    </tr>\n",
       "    <tr>\n",
       "      <th>3</th>\n",
       "      <td>andorra</td>\n",
       "      <td>NaN</td>\n",
       "    </tr>\n",
       "    <tr>\n",
       "      <th>4</th>\n",
       "      <td>angola</td>\n",
       "      <td>NaN</td>\n",
       "    </tr>\n",
       "  </tbody>\n",
       "</table>\n",
       "</div>"
      ],
      "text/plain": [
       "    country_name country_alias\n",
       "0   afghanistan            NaN\n",
       "1       albania            NaN\n",
       "2       algeria            NaN\n",
       "3       andorra            NaN\n",
       "4        angola            NaN"
      ]
     },
     "execution_count": 24,
     "metadata": {},
     "output_type": "execute_result"
    }
   ],
   "source": [
    "countries_df.head()"
   ]
  },
  {
   "cell_type": "code",
   "execution_count": 25,
   "id": "3a846c4b-423b-4a60-a332-cd25f3258dac",
   "metadata": {},
   "outputs": [
    {
     "data": {
      "text/html": [
       "<div>\n",
       "<style scoped>\n",
       "    .dataframe tbody tr th:only-of-type {\n",
       "        vertical-align: middle;\n",
       "    }\n",
       "\n",
       "    .dataframe tbody tr th {\n",
       "        vertical-align: top;\n",
       "    }\n",
       "\n",
       "    .dataframe thead th {\n",
       "        text-align: right;\n",
       "    }\n",
       "</style>\n",
       "<table border=\"1\" class=\"dataframe\">\n",
       "  <thead>\n",
       "    <tr style=\"text-align: right;\">\n",
       "      <th></th>\n",
       "      <th>country_name</th>\n",
       "      <th>country_alias</th>\n",
       "    </tr>\n",
       "  </thead>\n",
       "  <tbody>\n",
       "    <tr>\n",
       "      <th>91</th>\n",
       "      <td>korea, north</td>\n",
       "      <td>NaN</td>\n",
       "    </tr>\n",
       "    <tr>\n",
       "      <th>92</th>\n",
       "      <td>korea, south</td>\n",
       "      <td>NaN</td>\n",
       "    </tr>\n",
       "  </tbody>\n",
       "</table>\n",
       "</div>"
      ],
      "text/plain": [
       "        country_name country_alias\n",
       "91     korea, north            NaN\n",
       "92     korea, south            NaN"
      ]
     },
     "execution_count": 25,
     "metadata": {},
     "output_type": "execute_result"
    }
   ],
   "source": [
    "countries_df[countries_df['country_name'].str.contains(\"korea\", case=False, na=False)]"
   ]
  },
  {
   "cell_type": "code",
   "execution_count": 26,
   "id": "81bf81f4-c90f-4a1a-a101-c84cc0fb97c7",
   "metadata": {},
   "outputs": [],
   "source": [
    "countries_df['country_name'] = countries_df['country_name'].str.strip()"
   ]
  },
  {
   "cell_type": "code",
   "execution_count": 27,
   "id": "1e69fef9-1461-4f2f-b27c-6bf80eb7d890",
   "metadata": {},
   "outputs": [
    {
     "name": "stdout",
     "output_type": "stream",
     "text": [
      "korea, north\n",
      "korea, south\n"
     ]
    }
   ],
   "source": [
    "print(countries_df.loc[91, 'country_name'])  # should be 'korea, north'\n",
    "print(countries_df.loc[92, 'country_name'])  # should be 'korea, south'"
   ]
  },
  {
   "cell_type": "code",
   "execution_count": 28,
   "id": "745d3318-9131-46a0-9a60-ad2363dd2d6c",
   "metadata": {},
   "outputs": [],
   "source": [
    "countries_df['country_alias'] = countries_df['country_name'].map(country_aliases)"
   ]
  },
  {
   "cell_type": "code",
   "execution_count": 29,
   "id": "c2f408b9-d76f-4c97-8fe6-259893e4cd69",
   "metadata": {},
   "outputs": [
    {
     "data": {
      "text/html": [
       "<div>\n",
       "<style scoped>\n",
       "    .dataframe tbody tr th:only-of-type {\n",
       "        vertical-align: middle;\n",
       "    }\n",
       "\n",
       "    .dataframe tbody tr th {\n",
       "        vertical-align: top;\n",
       "    }\n",
       "\n",
       "    .dataframe thead th {\n",
       "        text-align: right;\n",
       "    }\n",
       "</style>\n",
       "<table border=\"1\" class=\"dataframe\">\n",
       "  <thead>\n",
       "    <tr style=\"text-align: right;\">\n",
       "      <th></th>\n",
       "      <th>country_name</th>\n",
       "      <th>country_alias</th>\n",
       "    </tr>\n",
       "  </thead>\n",
       "  <tbody>\n",
       "    <tr>\n",
       "      <th>91</th>\n",
       "      <td>korea, north</td>\n",
       "      <td>north korea</td>\n",
       "    </tr>\n",
       "    <tr>\n",
       "      <th>92</th>\n",
       "      <td>korea, south</td>\n",
       "      <td>south korea</td>\n",
       "    </tr>\n",
       "  </tbody>\n",
       "</table>\n",
       "</div>"
      ],
      "text/plain": [
       "    country_name country_alias\n",
       "91  korea, north   north korea\n",
       "92  korea, south   south korea"
      ]
     },
     "execution_count": 29,
     "metadata": {},
     "output_type": "execute_result"
    }
   ],
   "source": [
    "countries_df[countries_df['country_name'].str.contains(\"korea\", case=False, na=False)]"
   ]
  },
  {
   "cell_type": "code",
   "execution_count": 30,
   "id": "e26c9ca0-3954-40c8-b2fe-8807bea39fa2",
   "metadata": {},
   "outputs": [
    {
     "data": {
      "text/html": [
       "<div>\n",
       "<style scoped>\n",
       "    .dataframe tbody tr th:only-of-type {\n",
       "        vertical-align: middle;\n",
       "    }\n",
       "\n",
       "    .dataframe tbody tr th {\n",
       "        vertical-align: top;\n",
       "    }\n",
       "\n",
       "    .dataframe thead th {\n",
       "        text-align: right;\n",
       "    }\n",
       "</style>\n",
       "<table border=\"1\" class=\"dataframe\">\n",
       "  <thead>\n",
       "    <tr style=\"text-align: right;\">\n",
       "      <th></th>\n",
       "      <th>country_name</th>\n",
       "      <th>country_alias</th>\n",
       "    </tr>\n",
       "  </thead>\n",
       "  <tbody>\n",
       "    <tr>\n",
       "      <th>35</th>\n",
       "      <td>china, people's republic of</td>\n",
       "      <td>china</td>\n",
       "    </tr>\n",
       "  </tbody>\n",
       "</table>\n",
       "</div>"
      ],
      "text/plain": [
       "                   country_name country_alias\n",
       "35  china, people's republic of         china"
      ]
     },
     "execution_count": 30,
     "metadata": {},
     "output_type": "execute_result"
    }
   ],
   "source": [
    "countries_df[countries_df['country_name'].str.contains(\"china\", case=False, na=False)]"
   ]
  },
  {
   "cell_type": "code",
   "execution_count": 31,
   "id": "a1cdc22d-c772-47c3-9f69-2554999c42a3",
   "metadata": {},
   "outputs": [
    {
     "data": {
      "text/html": [
       "<div>\n",
       "<style scoped>\n",
       "    .dataframe tbody tr th:only-of-type {\n",
       "        vertical-align: middle;\n",
       "    }\n",
       "\n",
       "    .dataframe tbody tr th {\n",
       "        vertical-align: top;\n",
       "    }\n",
       "\n",
       "    .dataframe thead th {\n",
       "        text-align: right;\n",
       "    }\n",
       "</style>\n",
       "<table border=\"1\" class=\"dataframe\">\n",
       "  <thead>\n",
       "    <tr style=\"text-align: right;\">\n",
       "      <th></th>\n",
       "      <th>country_name</th>\n",
       "      <th>country_alias</th>\n",
       "    </tr>\n",
       "  </thead>\n",
       "  <tbody>\n",
       "    <tr>\n",
       "      <th>38</th>\n",
       "      <td>congo, democratic republic of the</td>\n",
       "      <td>congo</td>\n",
       "    </tr>\n",
       "    <tr>\n",
       "      <th>39</th>\n",
       "      <td>congo, republic of the</td>\n",
       "      <td>NaN</td>\n",
       "    </tr>\n",
       "  </tbody>\n",
       "</table>\n",
       "</div>"
      ],
      "text/plain": [
       "                         country_name country_alias\n",
       "38  congo, democratic republic of the         congo\n",
       "39             congo, republic of the           NaN"
      ]
     },
     "execution_count": 31,
     "metadata": {},
     "output_type": "execute_result"
    }
   ],
   "source": [
    "countries_df[countries_df['country_name'].str.contains(\"congo\", case=False, na=False)]"
   ]
  },
  {
   "cell_type": "markdown",
   "id": "c8e84bdc-145d-437b-a810-75c50aea4375",
   "metadata": {},
   "source": [
    "### 7.\tFilter the entities so that you end up only with the ones from your countries list"
   ]
  },
  {
   "cell_type": "code",
   "execution_count": 32,
   "id": "002e066f-ac72-48ee-93ba-d7ec41eb555d",
   "metadata": {},
   "outputs": [],
   "source": [
    "# Function to filter out entities not of interest\n",
    "\n",
    "def filter_entity(ent_list, countries_df):\n",
    "    valid_names = set(countries_df['country_name']).union(\n",
    "        set(countries_df['country_alias'].dropna())\n",
    "    )\n",
    "    return [ent for ent in ent_list if ent in valid_names]"
   ]
  },
  {
   "cell_type": "code",
   "execution_count": 33,
   "id": "65e6ef6c-ae9c-48af-8f5b-b4b284a35470",
   "metadata": {},
   "outputs": [
    {
     "data": {
      "text/plain": [
       "['germany']"
      ]
     },
     "execution_count": 33,
     "metadata": {},
     "output_type": "execute_result"
    }
   ],
   "source": [
    "# Check\n",
    "\n",
    "filter_entity([\"germany\", \"germans\", \"20\"], countries_df)"
   ]
  },
  {
   "cell_type": "code",
   "execution_count": 34,
   "id": "4d7a3b4a-b769-4c30-8aa1-78aa6f97782a",
   "metadata": {},
   "outputs": [],
   "source": [
    "df_sentences['country_entities'] = df_sentences['entities'].apply(lambda x: filter_entity(x, countries_df))"
   ]
  },
  {
   "cell_type": "code",
   "execution_count": 35,
   "id": "69b73a92-27b7-4be6-9afd-a8c36c24c213",
   "metadata": {},
   "outputs": [
    {
     "data": {
      "text/plain": [
       "0                    []\n",
       "1                    []\n",
       "2                    []\n",
       "3                    []\n",
       "4                    []\n",
       "5                    []\n",
       "6                    []\n",
       "7                    []\n",
       "8                    []\n",
       "9                    []\n",
       "10                   []\n",
       "11             [france]\n",
       "12             [russia]\n",
       "13    [germany, russia]\n",
       "14    [russia, germany]\n",
       "15                   []\n",
       "16            [germany]\n",
       "17                   []\n",
       "18                   []\n",
       "19                   []\n",
       "Name: country_entities, dtype: object"
      ]
     },
     "execution_count": 35,
     "metadata": {},
     "output_type": "execute_result"
    }
   ],
   "source": [
    "df_sentences['country_entities'].head(20)"
   ]
  },
  {
   "cell_type": "code",
   "execution_count": 36,
   "id": "d1f860b0-f9b8-4660-8ebd-9a0bfa456b00",
   "metadata": {},
   "outputs": [],
   "source": [
    "# Filter out sentences that don't have any character entities\n",
    "\n",
    "df_sentences_filtered = df_sentences[df_sentences['country_entities'].map(len) > 0]"
   ]
  },
  {
   "cell_type": "code",
   "execution_count": 37,
   "id": "7e3b9803-80e2-434d-a32d-399d3f76b93f",
   "metadata": {},
   "outputs": [
    {
     "data": {
      "text/html": [
       "<div>\n",
       "<style scoped>\n",
       "    .dataframe tbody tr th:only-of-type {\n",
       "        vertical-align: middle;\n",
       "    }\n",
       "\n",
       "    .dataframe tbody tr th {\n",
       "        vertical-align: top;\n",
       "    }\n",
       "\n",
       "    .dataframe thead th {\n",
       "        text-align: right;\n",
       "    }\n",
       "</style>\n",
       "<table border=\"1\" class=\"dataframe\">\n",
       "  <thead>\n",
       "    <tr style=\"text-align: right;\">\n",
       "      <th></th>\n",
       "      <th>sentence</th>\n",
       "      <th>entities</th>\n",
       "      <th>country_entities</th>\n",
       "    </tr>\n",
       "  </thead>\n",
       "  <tbody>\n",
       "    <tr>\n",
       "      <th>1164</th>\n",
       "      <td>(colonial, cartographies, ,, postcolonial, bor...</td>\n",
       "      <td>[colonial cartographies, afghanistan, pakistan]</td>\n",
       "      <td>[afghanistan, pakistan]</td>\n",
       "    </tr>\n",
       "    <tr>\n",
       "      <th>1196</th>\n",
       "      <td>(the, moldovans, romania, ,, russia, ,, and, t...</td>\n",
       "      <td>[moldovans, russia]</td>\n",
       "      <td>[russia]</td>\n",
       "    </tr>\n",
       "    <tr>\n",
       "      <th>1208</th>\n",
       "      <td>(now, ,, north, korea, may, be, the, one, true...</td>\n",
       "      <td>[north korea, one]</td>\n",
       "      <td>[north korea]</td>\n",
       "    </tr>\n",
       "    <tr>\n",
       "      <th>1249</th>\n",
       "      <td>(selling, ', operation, passage, to, freedom, ...</td>\n",
       "      <td>[thomas dooley, american, vietnam]</td>\n",
       "      <td>[vietnam]</td>\n",
       "    </tr>\n",
       "    <tr>\n",
       "      <th>1252</th>\n",
       "      <td>(military, pressures, against, north, vietnam,...</td>\n",
       "      <td>[vietnam, february 1964, january 1965]</td>\n",
       "      <td>[vietnam]</td>\n",
       "    </tr>\n",
       "    <tr>\n",
       "      <th>1266</th>\n",
       "      <td>(nixon, prolonged, vietnam, war, for, politica...</td>\n",
       "      <td>[nixon, vietnam, johnson]</td>\n",
       "      <td>[vietnam]</td>\n",
       "    </tr>\n",
       "    <tr>\n",
       "      <th>1275</th>\n",
       "      <td>(stuck, in, endless, preliminaries, vietnam, a...</td>\n",
       "      <td>[vietnam, paris, november 1968, january 1969]</td>\n",
       "      <td>[vietnam]</td>\n",
       "    </tr>\n",
       "    <tr>\n",
       "      <th>1499</th>\n",
       "      <td>(anti, -, american, behavior, in, the, middle,...</td>\n",
       "      <td>[anti-american, the middle east, lebanon]</td>\n",
       "      <td>[lebanon]</td>\n",
       "    </tr>\n",
       "    <tr>\n",
       "      <th>1504</th>\n",
       "      <td>(the, rise, of, china, and, india, a, new, asi...</td>\n",
       "      <td>[china, india, asian]</td>\n",
       "      <td>[china, india]</td>\n",
       "    </tr>\n",
       "    <tr>\n",
       "      <th>1505</th>\n",
       "      <td>(singapore, world, scientific, .)</td>\n",
       "      <td>[singapore]</td>\n",
       "      <td>[singapore]</td>\n",
       "    </tr>\n",
       "  </tbody>\n",
       "</table>\n",
       "</div>"
      ],
      "text/plain": [
       "                                               sentence  \\\n",
       "1164  (colonial, cartographies, ,, postcolonial, bor...   \n",
       "1196  (the, moldovans, romania, ,, russia, ,, and, t...   \n",
       "1208  (now, ,, north, korea, may, be, the, one, true...   \n",
       "1249  (selling, ', operation, passage, to, freedom, ...   \n",
       "1252  (military, pressures, against, north, vietnam,...   \n",
       "1266  (nixon, prolonged, vietnam, war, for, politica...   \n",
       "1275  (stuck, in, endless, preliminaries, vietnam, a...   \n",
       "1499  (anti, -, american, behavior, in, the, middle,...   \n",
       "1504  (the, rise, of, china, and, india, a, new, asi...   \n",
       "1505                  (singapore, world, scientific, .)   \n",
       "\n",
       "                                             entities         country_entities  \n",
       "1164  [colonial cartographies, afghanistan, pakistan]  [afghanistan, pakistan]  \n",
       "1196                              [moldovans, russia]                 [russia]  \n",
       "1208                               [north korea, one]            [north korea]  \n",
       "1249               [thomas dooley, american, vietnam]                [vietnam]  \n",
       "1252           [vietnam, february 1964, january 1965]                [vietnam]  \n",
       "1266                        [nixon, vietnam, johnson]                [vietnam]  \n",
       "1275    [vietnam, paris, november 1968, january 1969]                [vietnam]  \n",
       "1499        [anti-american, the middle east, lebanon]                [lebanon]  \n",
       "1504                            [china, india, asian]           [china, india]  \n",
       "1505                                      [singapore]              [singapore]  "
      ]
     },
     "execution_count": 37,
     "metadata": {},
     "output_type": "execute_result"
    }
   ],
   "source": [
    "df_sentences_filtered.tail(10)"
   ]
  },
  {
   "cell_type": "markdown",
   "id": "cfe7a948-6e96-4ad2-9fad-469a4cc39423",
   "metadata": {},
   "source": [
    "### 8.\tCreate the relationships dataframe"
   ]
  },
  {
   "cell_type": "code",
   "execution_count": 38,
   "id": "0974f406-0340-4a98-b569-b800a371e66f",
   "metadata": {},
   "outputs": [],
   "source": [
    "# Defining relationships \n",
    "\n",
    "# window size = 5 : this defines how many sentences will be looked at simultaneously \n",
    "relationships = [] # create an empty list\n",
    "\n",
    "for i in range(df_sentences_filtered.index[-1]):\n",
    "    end_i = min(i+5, df_sentences_filtered.index[-1])\n",
    "    country_list = sum((df_sentences_filtered.loc[i: end_i].country_entities), [])\n",
    "    \n",
    "    # Remove duplicated characters that are next to each other\n",
    "    country_unique = [country_list[i] for i in range(len(country_list)) \n",
    "                   if (i==0) or country_list[i] != country_list[i-1]]\n",
    "    \n",
    "    if len(country_unique) > 1:\n",
    "        for idx, a in enumerate(country_unique[:-1]):\n",
    "            b = country_unique[idx + 1]\n",
    "            relationships.append({\"source\": a, \"target\": b})"
   ]
  },
  {
   "cell_type": "code",
   "execution_count": 39,
   "id": "3a3e6e1c-842c-4982-8103-aff95e562411",
   "metadata": {},
   "outputs": [],
   "source": [
    "relationship_df = pd.DataFrame(relationships)"
   ]
  },
  {
   "cell_type": "code",
   "execution_count": 40,
   "id": "d15d2398-ec3b-4c44-9111-3f9477cf9d07",
   "metadata": {},
   "outputs": [
    {
     "data": {
      "text/html": [
       "<div>\n",
       "<style scoped>\n",
       "    .dataframe tbody tr th:only-of-type {\n",
       "        vertical-align: middle;\n",
       "    }\n",
       "\n",
       "    .dataframe tbody tr th {\n",
       "        vertical-align: top;\n",
       "    }\n",
       "\n",
       "    .dataframe thead th {\n",
       "        text-align: right;\n",
       "    }\n",
       "</style>\n",
       "<table border=\"1\" class=\"dataframe\">\n",
       "  <thead>\n",
       "    <tr style=\"text-align: right;\">\n",
       "      <th></th>\n",
       "      <th>source</th>\n",
       "      <th>target</th>\n",
       "    </tr>\n",
       "  </thead>\n",
       "  <tbody>\n",
       "    <tr>\n",
       "      <th>0</th>\n",
       "      <td>france</td>\n",
       "      <td>russia</td>\n",
       "    </tr>\n",
       "    <tr>\n",
       "      <th>1</th>\n",
       "      <td>france</td>\n",
       "      <td>russia</td>\n",
       "    </tr>\n",
       "    <tr>\n",
       "      <th>2</th>\n",
       "      <td>russia</td>\n",
       "      <td>germany</td>\n",
       "    </tr>\n",
       "    <tr>\n",
       "      <th>3</th>\n",
       "      <td>germany</td>\n",
       "      <td>russia</td>\n",
       "    </tr>\n",
       "    <tr>\n",
       "      <th>4</th>\n",
       "      <td>france</td>\n",
       "      <td>russia</td>\n",
       "    </tr>\n",
       "    <tr>\n",
       "      <th>...</th>\n",
       "      <td>...</td>\n",
       "      <td>...</td>\n",
       "    </tr>\n",
       "    <tr>\n",
       "      <th>629</th>\n",
       "      <td>india</td>\n",
       "      <td>singapore</td>\n",
       "    </tr>\n",
       "    <tr>\n",
       "      <th>630</th>\n",
       "      <td>china</td>\n",
       "      <td>india</td>\n",
       "    </tr>\n",
       "    <tr>\n",
       "      <th>631</th>\n",
       "      <td>india</td>\n",
       "      <td>singapore</td>\n",
       "    </tr>\n",
       "    <tr>\n",
       "      <th>632</th>\n",
       "      <td>china</td>\n",
       "      <td>india</td>\n",
       "    </tr>\n",
       "    <tr>\n",
       "      <th>633</th>\n",
       "      <td>india</td>\n",
       "      <td>singapore</td>\n",
       "    </tr>\n",
       "  </tbody>\n",
       "</table>\n",
       "<p>634 rows × 2 columns</p>\n",
       "</div>"
      ],
      "text/plain": [
       "      source     target\n",
       "0     france     russia\n",
       "1     france     russia\n",
       "2     russia    germany\n",
       "3    germany     russia\n",
       "4     france     russia\n",
       "..       ...        ...\n",
       "629    india  singapore\n",
       "630    china      india\n",
       "631    india  singapore\n",
       "632    china      india\n",
       "633    india  singapore\n",
       "\n",
       "[634 rows x 2 columns]"
      ]
     },
     "execution_count": 40,
     "metadata": {},
     "output_type": "execute_result"
    }
   ],
   "source": [
    "relationship_df"
   ]
  },
  {
   "cell_type": "code",
   "execution_count": 41,
   "id": "1a387708-397c-49aa-81a7-92cd7f37e711",
   "metadata": {},
   "outputs": [
    {
     "data": {
      "text/html": [
       "<div>\n",
       "<style scoped>\n",
       "    .dataframe tbody tr th:only-of-type {\n",
       "        vertical-align: middle;\n",
       "    }\n",
       "\n",
       "    .dataframe tbody tr th {\n",
       "        vertical-align: top;\n",
       "    }\n",
       "\n",
       "    .dataframe thead th {\n",
       "        text-align: right;\n",
       "    }\n",
       "</style>\n",
       "<table border=\"1\" class=\"dataframe\">\n",
       "  <thead>\n",
       "    <tr style=\"text-align: right;\">\n",
       "      <th></th>\n",
       "      <th>source</th>\n",
       "      <th>target</th>\n",
       "    </tr>\n",
       "  </thead>\n",
       "  <tbody>\n",
       "    <tr>\n",
       "      <th>0</th>\n",
       "      <td>france</td>\n",
       "      <td>russia</td>\n",
       "    </tr>\n",
       "    <tr>\n",
       "      <th>1</th>\n",
       "      <td>france</td>\n",
       "      <td>russia</td>\n",
       "    </tr>\n",
       "    <tr>\n",
       "      <th>2</th>\n",
       "      <td>germany</td>\n",
       "      <td>russia</td>\n",
       "    </tr>\n",
       "    <tr>\n",
       "      <th>3</th>\n",
       "      <td>germany</td>\n",
       "      <td>russia</td>\n",
       "    </tr>\n",
       "    <tr>\n",
       "      <th>4</th>\n",
       "      <td>france</td>\n",
       "      <td>russia</td>\n",
       "    </tr>\n",
       "  </tbody>\n",
       "</table>\n",
       "</div>"
      ],
      "text/plain": [
       "    source  target\n",
       "0   france  russia\n",
       "1   france  russia\n",
       "2  germany  russia\n",
       "3  germany  russia\n",
       "4   france  russia"
      ]
     },
     "execution_count": 41,
     "metadata": {},
     "output_type": "execute_result"
    }
   ],
   "source": [
    "# Sort the cases with a->b and b->a\n",
    "\n",
    "relationship_df = pd.DataFrame(np.sort(relationship_df.values, axis = 1), columns = relationship_df.columns)\n",
    "relationship_df.head(5)"
   ]
  },
  {
   "cell_type": "code",
   "execution_count": 42,
   "id": "d6f0279f-f0dc-4e44-a5da-f389084df19d",
   "metadata": {},
   "outputs": [],
   "source": [
    "# Summarize the interactions\n",
    "\n",
    "relationship_df[\"value\"] = 1\n",
    "relationship_df = relationship_df.groupby([\"source\",\"target\"], sort=False, as_index=False).sum()"
   ]
  },
  {
   "cell_type": "code",
   "execution_count": 43,
   "id": "dca85966-8eb8-4147-90b3-ebebb2650d2f",
   "metadata": {},
   "outputs": [
    {
     "data": {
      "text/html": [
       "<div>\n",
       "<style scoped>\n",
       "    .dataframe tbody tr th:only-of-type {\n",
       "        vertical-align: middle;\n",
       "    }\n",
       "\n",
       "    .dataframe tbody tr th {\n",
       "        vertical-align: top;\n",
       "    }\n",
       "\n",
       "    .dataframe thead th {\n",
       "        text-align: right;\n",
       "    }\n",
       "</style>\n",
       "<table border=\"1\" class=\"dataframe\">\n",
       "  <thead>\n",
       "    <tr style=\"text-align: right;\">\n",
       "      <th></th>\n",
       "      <th>source</th>\n",
       "      <th>target</th>\n",
       "      <th>value</th>\n",
       "    </tr>\n",
       "  </thead>\n",
       "  <tbody>\n",
       "    <tr>\n",
       "      <th>0</th>\n",
       "      <td>france</td>\n",
       "      <td>russia</td>\n",
       "      <td>11</td>\n",
       "    </tr>\n",
       "    <tr>\n",
       "      <th>1</th>\n",
       "      <td>germany</td>\n",
       "      <td>russia</td>\n",
       "      <td>22</td>\n",
       "    </tr>\n",
       "    <tr>\n",
       "      <th>2</th>\n",
       "      <td>germany</td>\n",
       "      <td>italy</td>\n",
       "      <td>28</td>\n",
       "    </tr>\n",
       "    <tr>\n",
       "      <th>3</th>\n",
       "      <td>austria</td>\n",
       "      <td>germany</td>\n",
       "      <td>10</td>\n",
       "    </tr>\n",
       "    <tr>\n",
       "      <th>4</th>\n",
       "      <td>france</td>\n",
       "      <td>spain</td>\n",
       "      <td>1</td>\n",
       "    </tr>\n",
       "    <tr>\n",
       "      <th>5</th>\n",
       "      <td>france</td>\n",
       "      <td>poland</td>\n",
       "      <td>14</td>\n",
       "    </tr>\n",
       "    <tr>\n",
       "      <th>6</th>\n",
       "      <td>france</td>\n",
       "      <td>germany</td>\n",
       "      <td>19</td>\n",
       "    </tr>\n",
       "    <tr>\n",
       "      <th>7</th>\n",
       "      <td>germany</td>\n",
       "      <td>poland</td>\n",
       "      <td>23</td>\n",
       "    </tr>\n",
       "    <tr>\n",
       "      <th>8</th>\n",
       "      <td>estonia</td>\n",
       "      <td>germany</td>\n",
       "      <td>5</td>\n",
       "    </tr>\n",
       "    <tr>\n",
       "      <th>9</th>\n",
       "      <td>estonia</td>\n",
       "      <td>latvia</td>\n",
       "      <td>12</td>\n",
       "    </tr>\n",
       "  </tbody>\n",
       "</table>\n",
       "</div>"
      ],
      "text/plain": [
       "    source   target  value\n",
       "0   france   russia     11\n",
       "1  germany   russia     22\n",
       "2  germany    italy     28\n",
       "3  austria  germany     10\n",
       "4   france    spain      1\n",
       "5   france   poland     14\n",
       "6   france  germany     19\n",
       "7  germany   poland     23\n",
       "8  estonia  germany      5\n",
       "9  estonia   latvia     12"
      ]
     },
     "execution_count": 43,
     "metadata": {},
     "output_type": "execute_result"
    }
   ],
   "source": [
    "relationship_df.head(10)"
   ]
  },
  {
   "cell_type": "markdown",
   "id": "8b1224d7-2daf-43d3-a6e3-43c47dfeec15",
   "metadata": {},
   "source": [
    "### 9.\tSave and export your dataframe."
   ]
  },
  {
   "cell_type": "code",
   "execution_count": 45,
   "id": "f03b2e6a-40dc-4e9e-91f3-812f5e9c9448",
   "metadata": {},
   "outputs": [],
   "source": [
    "relationship_df.to_csv(\"country_relationships.csv\", index=False)"
   ]
  }
 ],
 "metadata": {
  "kernelspec": {
   "display_name": "Python [conda env:venv_20th_century]",
   "language": "python",
   "name": "conda-env-venv_20th_century-py"
  },
  "language_info": {
   "codemirror_mode": {
    "name": "ipython",
    "version": 3
   },
   "file_extension": ".py",
   "mimetype": "text/x-python",
   "name": "python",
   "nbconvert_exporter": "python",
   "pygments_lexer": "ipython3",
   "version": "3.13.5"
  }
 },
 "nbformat": 4,
 "nbformat_minor": 5
}
