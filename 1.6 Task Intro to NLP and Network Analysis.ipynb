{
 "cells": [
  {
   "cell_type": "markdown",
   "id": "42ccc194-4569-43a5-8d5d-49dadf1dc6aa",
   "metadata": {},
   "source": [
    "### Install requirements txt file \n",
    "    pip install -r requirements_1.6.txt"
   ]
  },
  {
   "cell_type": "markdown",
   "id": "2f7c67e9-ace9-44ee-af5f-0d693d99bbc9",
   "metadata": {},
   "source": [
    "### Import libraries"
   ]
  },
  {
   "cell_type": "code",
   "execution_count": 1,
   "id": "08922c84-5878-4336-9277-3edc7358590c",
   "metadata": {},
   "outputs": [],
   "source": [
    "import pandas as pd\n",
    "import numpy as np\n",
    "import spacy\n",
    "from spacy import displacy\n",
    "import networkx as nx\n",
    "import os\n",
    "import matplotlib.pyplot as plt\n",
    "import scipy\n",
    "import re"
   ]
  },
  {
   "cell_type": "code",
   "execution_count": 2,
   "id": "236452ba-3f77-4328-9b2e-1e2499821c6c",
   "metadata": {},
   "outputs": [
    {
     "name": "stdout",
     "output_type": "stream",
     "text": [
      "Collecting en-core-web-sm==3.8.0\n",
      "  Downloading https://github.com/explosion/spacy-models/releases/download/en_core_web_sm-3.8.0/en_core_web_sm-3.8.0-py3-none-any.whl (12.8 MB)\n",
      "     ---------------------------------------- 0.0/12.8 MB ? eta -:--:--\n",
      "      --------------------------------------- 0.3/12.8 MB ? eta -:--:--\n",
      "     - -------------------------------------- 0.5/12.8 MB 1.8 MB/s eta 0:00:07\n",
      "     --- ------------------------------------ 1.0/12.8 MB 1.9 MB/s eta 0:00:07\n",
      "     ---- ----------------------------------- 1.3/12.8 MB 1.9 MB/s eta 0:00:07\n",
      "     ----- ---------------------------------- 1.8/12.8 MB 1.9 MB/s eta 0:00:06\n",
      "     ------- -------------------------------- 2.4/12.8 MB 2.0 MB/s eta 0:00:06\n",
      "     -------- ------------------------------- 2.6/12.8 MB 2.0 MB/s eta 0:00:06\n",
      "     --------- ------------------------------ 3.1/12.8 MB 2.0 MB/s eta 0:00:05\n",
      "     ----------- ---------------------------- 3.7/12.8 MB 2.0 MB/s eta 0:00:05\n",
      "     ------------- -------------------------- 4.2/12.8 MB 2.1 MB/s eta 0:00:05\n",
      "     ------------- -------------------------- 4.5/12.8 MB 2.1 MB/s eta 0:00:04\n",
      "     ---------------- ----------------------- 5.2/12.8 MB 2.2 MB/s eta 0:00:04\n",
      "     ------------------ --------------------- 5.8/12.8 MB 2.2 MB/s eta 0:00:04\n",
      "     -------------------- ------------------- 6.6/12.8 MB 2.3 MB/s eta 0:00:03\n",
      "     ---------------------- ----------------- 7.1/12.8 MB 2.3 MB/s eta 0:00:03\n",
      "     ----------------------- ---------------- 7.6/12.8 MB 2.4 MB/s eta 0:00:03\n",
      "     -------------------------- ------------- 8.4/12.8 MB 2.4 MB/s eta 0:00:02\n",
      "     --------------------------- ------------ 8.9/12.8 MB 2.5 MB/s eta 0:00:02\n",
      "     ------------------------------ --------- 9.7/12.8 MB 2.5 MB/s eta 0:00:02\n",
      "     ------------------------------- -------- 10.2/12.8 MB 2.5 MB/s eta 0:00:02\n",
      "     --------------------------------- ------ 10.7/12.8 MB 2.5 MB/s eta 0:00:01\n",
      "     ---------------------------------- ----- 11.0/12.8 MB 2.5 MB/s eta 0:00:01\n",
      "     ------------------------------------ --- 11.5/12.8 MB 2.5 MB/s eta 0:00:01\n",
      "     ------------------------------------- -- 12.1/12.8 MB 2.5 MB/s eta 0:00:01\n",
      "     ---------------------------------------  12.6/12.8 MB 2.5 MB/s eta 0:00:01\n",
      "     ---------------------------------------- 12.8/12.8 MB 2.5 MB/s eta 0:00:00\n",
      "\u001b[38;5;2m[+] Download and installation successful\u001b[0m\n",
      "You can now load the package via spacy.load('en_core_web_sm')\n"
     ]
    }
   ],
   "source": [
    "# Download English module\n",
    "\n",
    "!python -m spacy download en_core_web_sm"
   ]
  },
  {
   "cell_type": "code",
   "execution_count": 3,
   "id": "94440847-e428-4c90-9d35-14fc9e3499d6",
   "metadata": {},
   "outputs": [],
   "source": [
    "# Load spacy English module\n",
    "\n",
    "NER = spacy.load(\"en_core_web_sm\")"
   ]
  },
  {
   "cell_type": "markdown",
   "id": "e69ac707-b833-429b-8ccf-a230d5aa141f",
   "metadata": {},
   "source": [
    "### 3.\tLoad the twentieth-century text file."
   ]
  },
  {
   "cell_type": "code",
   "execution_count": 4,
   "id": "a2903771-3d2c-4e52-962e-33b7b0bf963f",
   "metadata": {},
   "outputs": [],
   "source": [
    "# Load the text file\n",
    "\n",
    "with open('key_events_20th_century.txt', 'r', errors='ignore') as file:\n",
    "    data = file.read().replace('\\n', ' ')"
   ]
  },
  {
   "cell_type": "code",
   "execution_count": 5,
   "id": "eb30f266-7a13-414b-9be8-19abb014fa7c",
   "metadata": {},
   "outputs": [
    {
     "name": "stdout",
     "output_type": "stream",
     "text": [
      "The 20th century changed the world in unprecedented ways. The World Wars sparked tension between countries and led to the creation of atomic bombs, the Cold War led to the Space Race and the creation of space-based rockets, and the World Wide Web was created. These advancements have played a significant role in citizens' lives and shaped the 21st century into what it is today. Historic events in the 20th century[edit] World at the beginning of the century[edit] Main article: Edwardian era The new beginning of the 20th century marked significant changes. The 1900s saw the decade herald a series of inventions, including the automobile, airplane and radio broadcasting. 1914 saw the completion of the Panama Canal. The Scramble for Africa continued in the 1900s and resulted in wars and genocide across the continent. The atrocities in the Congo Free State shocked the civilized world. From 1914 to 1918, the First World War, and its aftermath, caused major changes in the power balance of the w\n"
     ]
    }
   ],
   "source": [
    "print(data[:1000])  # Preview first 1000 characters"
   ]
  },
  {
   "cell_type": "code",
   "execution_count": 6,
   "id": "ea8816ea-486f-4cc5-86b7-c1dad88bfc9d",
   "metadata": {},
   "outputs": [],
   "source": [
    "# Load countries from CSV using pandas\n",
    "country_df = pd.read_csv('countries_list_20th_century_1.5.csv')\n",
    "\n",
    "# Convert to a list and strip whitespace\n",
    "country_list = country_df['country_name'].str.strip().str.lower().tolist()"
   ]
  },
  {
   "cell_type": "code",
   "execution_count": 7,
   "id": "6752557f-db67-4ad2-9cea-48b5c45e4273",
   "metadata": {},
   "outputs": [
    {
     "name": "stdout",
     "output_type": "stream",
     "text": [
      "['afghanistan', 'albania', 'algeria', 'andorra', 'angola', 'antigua and barbuda', 'argentina', 'armenia', 'australia', 'austria', 'azerbaijan', 'bahamas, the', 'bahrain', 'bangladesh', 'barbados', 'belarus', 'belgium', 'belize', 'benin', 'bhutan', 'bolivia', 'bosnia and herzegovina', 'botswana', 'brazil', 'brunei', 'bulgaria', 'burkina faso', 'burundi', 'cambodia', 'cameroon', 'canada', 'cape verde', 'central african republic', 'chad', 'chile', \"china, people's republic of\", 'colombia', 'comoros', 'congo, democratic republic of the', 'congo, republic of the', 'costa rica', 'croatia', 'cuba', 'cyprus', 'czech republic', 'denmark', 'djibouti', 'dominica', 'dominican republic', 'east timor', 'ecuador', 'egypt', 'el salvador', 'equatorial guinea', 'eritrea', 'estonia', 'eswatini', 'ethiopia', 'fiji', 'finland', 'france', 'gabon', 'gambia, the', 'georgia', 'germany', 'ghana', 'greece', 'grenada', 'guatemala', 'guinea', 'guinea', 'bissau', 'guyana', 'haiti', 'honduras', 'hungary', 'iceland', 'india', 'indonesia', 'iran', 'iraq', 'ireland', 'israel', 'italy', 'ivory coast', 'jamaica', 'japan', 'jordan', 'kazakhstan', 'kenya', 'kiribati', 'korea, north', 'korea, south', 'kuwait', 'kyrgyzstan', 'laos', 'latvia', 'lebanon', 'lesotho', 'liberia', 'libya', 'liechtenstein', 'lithuania', 'luxembourg', 'madagascar', 'malawi', 'malaysia', 'maldives', 'mali', 'malta', 'marshall islands', 'mauritania', 'mauritius', 'mexico', 'micronesia, federated states of', 'moldova', 'monaco', 'mongolia', 'montenegro', 'morocco', 'mozambique', 'myanmar', 'namibia', 'nauru', 'nepal', 'netherlands', 'new zealand', 'nicaragua', 'niger', 'nigeria', 'north macedonia', 'norway', 'oman', 'pakistan', 'palau', 'palestine', 'panama', 'papua new guinea', 'paraguay', 'peru', 'philippines', 'poland', 'portugal', 'qatar', 'romania', 'russia', 'rwanda', 'saint kitts and nevis', 'saint lucia', 'saint vincent and the grenadines', 'samoa', 'san marino', 'são tomé and príncipe', 'saudi arabia', 'senegal', 'serbia', 'seychelles', 'sierra leone', 'singapore', 'slovakia', 'slovenia', 'solomon islands', 'somalia', 'south africa', 'south sudan', 'spain', 'sri lanka', 'sudan', 'suriname', 'sweden', 'switzerland', 'syria', 'tajikistan', 'tanzania', 'thailand', 'togo', 'tonga', 'trinidad and tobago', 'tunisia', 'turkey', 'turkmenistan', 'tuvalu', 'uganda', 'ukraine', 'united arab emirates', 'united kingdom', 'united states', 'uruguay', 'uzbekistan', 'vanuatu', 'vatican city (holy see)', 'venezuela', 'vietnam', 'yemen', 'zambia', 'zimbabwe', 'abkhazia', 'artsakh', 'cook islands', \"donetsk people's republic\", 'kosovo', \"luhansk people's republic\", 'niue', 'northern cyprus', 'sahrawi arab democratic republic', 'somaliland', 'south ossetia', 'taiwan', 'transnistria']\n"
     ]
    }
   ],
   "source": [
    "print(country_list) "
   ]
  },
  {
   "cell_type": "markdown",
   "id": "1eba6f3d-6cf2-47f0-98ed-10364afc7e05",
   "metadata": {},
   "source": [
    "### 4.\tEvaluate whether the text needs wrangling—are there any special characters used? Are the names of the countries in your list the same as the names in the text? Write down your observations in a markdown cell and take the necessary steps to correct any issues you’ve found. If anything does need correcting, make sure you save your file as a .txt"
   ]
  },
  {
   "cell_type": "code",
   "execution_count": 8,
   "id": "cb518f89-53c7-430a-8991-fb2a432cc8f7",
   "metadata": {},
   "outputs": [
    {
     "data": {
      "text/plain": [
       "str"
      ]
     },
     "execution_count": 8,
     "metadata": {},
     "output_type": "execute_result"
    }
   ],
   "source": [
    "type(data)"
   ]
  },
  {
   "cell_type": "code",
   "execution_count": 9,
   "id": "b167d561-f3a3-417b-9b80-63a5aff8cf7c",
   "metadata": {},
   "outputs": [],
   "source": [
    "# Fix and clean the text\n",
    "cleaned = data.lower()\n",
    "cleaned = re.sub(r\"[^a-z0-9\\s.,'’“”‘-]\", \" \", cleaned)  # Replace non-standard chars with space\n",
    "cleaned = re.sub(r\"\\s+\", \" \", cleaned).strip()  # Normalize whitespace\n"
   ]
  },
  {
   "cell_type": "markdown",
   "id": "95d67a59-2df2-4c0d-bf04-ff2a170d0d8d",
   "metadata": {},
   "source": [
    "#### Removed all special characters"
   ]
  },
  {
   "cell_type": "code",
   "execution_count": 28,
   "id": "9c965f82-3db4-4de5-95f2-8798f9b2f6b4",
   "metadata": {},
   "outputs": [
    {
     "name": "stdout",
     "output_type": "stream",
     "text": [
      "the 20th century changed the world in unprecedented ways. the world wars sparked tension between cou\n"
     ]
    }
   ],
   "source": [
    "print(cleaned[:100])"
   ]
  },
  {
   "cell_type": "code",
   "execution_count": 44,
   "id": "d49ae388-39ee-48f8-9342-901856a800d0",
   "metadata": {},
   "outputs": [],
   "source": [
    "# Save cleaned\n",
    "with open(\"cleaned_text.txt\", \"w\", encoding=\"utf-8\") as f:\n",
    "    f.write(cleaned)\n"
   ]
  },
  {
   "cell_type": "code",
   "execution_count": 21,
   "id": "c8213105-fa6c-475f-9d14-e893797ccc00",
   "metadata": {},
   "outputs": [],
   "source": [
    "country_aliases = {\n",
    "    'korea, north': 'north korea',\n",
    "    'korea, south': 'south korea',\n",
    "    \"china, people's republic of\": 'china',\n",
    "    'congo, democratic republic of the': 'congo',\n",
    "    # add more as needed\n",
    "}\n"
   ]
  },
  {
   "cell_type": "code",
   "execution_count": 26,
   "id": "4f6e95f5-6140-4e77-8da1-19e74b1f3fcb",
   "metadata": {},
   "outputs": [
    {
     "name": "stdout",
     "output_type": "stream",
     "text": [
      "Countries found in text: ['afghanistan', 'albania', 'algeria', 'angola', 'australia', 'austria', 'bangladesh', 'belarus', 'belgium', 'bulgaria', 'cambodia', 'canada', 'cape verde', \"china, people's republic of\", 'congo, democratic republic of the', 'cuba', 'denmark', 'egypt', 'estonia', 'finland', 'france', 'germany', 'ghana', 'greece', 'guinea', 'guinea', 'bissau', 'hungary', 'india', 'iran', 'iraq', 'israel', 'italy', 'japan', 'kenya', 'korea, north', 'korea, south', 'laos', 'latvia', 'lebanon', 'libya', 'lithuania', 'luxembourg', 'mexico', 'mongolia', 'morocco', 'mozambique', 'netherlands', 'norway', 'pakistan', 'panama', 'papua new guinea', 'philippines', 'poland', 'romania', 'russia', 'rwanda', 'seychelles', 'singapore', 'solomon islands', 'south africa', 'spain', 'sweden', 'thailand', 'ukraine', 'united kingdom', 'united states', 'vietnam']\n"
     ]
    }
   ],
   "source": [
    "found_countries = []\n",
    "not_found_countries = []\n",
    "\n",
    "for country in country_list:\n",
    "    # Use alias if available, else use original\n",
    "    alias = country_aliases.get(country, country)\n",
    "    \n",
    "    if re.search(rf'\\b{re.escape(alias)}\\b', cleaned):\n",
    "        found_countries.append(country)\n",
    "    else:\n",
    "        not_found_countries.append(country)\n",
    "\n",
    "print(\"Countries found in text:\", found_countries)"
   ]
  },
  {
   "cell_type": "markdown",
   "id": "6e321690-a9d8-41fb-a3de-fbe1a71becf6",
   "metadata": {},
   "source": [
    "found_countries = []\n",
    "not_found_countries = []\n",
    "\n",
    "for country in country_list:\n",
    "    alias = country_aliases.get(country, country)  # Use alias if available\n",
    "    if re.search(rf'\\b{re.escape(alias)}\\b', cleaned):\n",
    "        found_countries.append(country)\n",
    "    else:\n",
    "        not_found_countries.append(country)"
   ]
  },
  {
   "cell_type": "code",
   "execution_count": 27,
   "id": "7ac79c89-7a44-48bf-b8ae-9c18f1a0274c",
   "metadata": {},
   "outputs": [
    {
     "name": "stdout",
     "output_type": "stream",
     "text": [
      "Countries not found in text: ['andorra', 'antigua and barbuda', 'argentina', 'armenia', 'azerbaijan', 'bahamas, the', 'bahrain', 'barbados', 'belize', 'benin', 'bhutan', 'bolivia', 'bosnia and herzegovina', 'botswana', 'brazil', 'brunei', 'burkina faso', 'burundi', 'cameroon', 'central african republic', 'chad', 'chile', 'colombia', 'comoros', 'congo, republic of the', 'costa rica', 'croatia', 'cyprus', 'czech republic', 'djibouti', 'dominica', 'dominican republic', 'east timor', 'ecuador', 'el salvador', 'equatorial guinea', 'eritrea', 'eswatini', 'ethiopia', 'fiji', 'gabon', 'gambia, the', 'georgia', 'grenada', 'guatemala', 'guyana', 'haiti', 'honduras', 'iceland', 'indonesia', 'ireland', 'ivory coast', 'jamaica', 'jordan', 'kazakhstan', 'kiribati', 'kuwait', 'kyrgyzstan', 'lesotho', 'liberia', 'liechtenstein', 'madagascar', 'malawi', 'malaysia', 'maldives', 'mali', 'malta', 'marshall islands', 'mauritania', 'mauritius', 'micronesia, federated states of', 'moldova', 'monaco', 'montenegro', 'myanmar', 'namibia', 'nauru', 'nepal', 'new zealand', 'nicaragua', 'niger', 'nigeria', 'north macedonia', 'oman', 'palau', 'palestine', 'paraguay', 'peru', 'portugal', 'qatar', 'saint kitts and nevis', 'saint lucia', 'saint vincent and the grenadines', 'samoa', 'san marino', 'são tomé and príncipe', 'saudi arabia', 'senegal', 'serbia', 'sierra leone', 'slovakia', 'slovenia', 'somalia', 'south sudan', 'sri lanka', 'sudan', 'suriname', 'switzerland', 'syria', 'tajikistan', 'tanzania', 'togo', 'tonga', 'trinidad and tobago', 'tunisia', 'turkey', 'turkmenistan', 'tuvalu', 'uganda', 'united arab emirates', 'uruguay', 'uzbekistan', 'vanuatu', 'vatican city (holy see)', 'venezuela', 'yemen', 'zambia', 'zimbabwe', 'abkhazia', 'artsakh', 'cook islands', \"donetsk people's republic\", 'kosovo', \"luhansk people's republic\", 'niue', 'northern cyprus', 'sahrawi arab democratic republic', 'somaliland', 'south ossetia', 'taiwan', 'transnistria']\n"
     ]
    }
   ],
   "source": [
    "print(\"Countries not found in text:\", not_found_countries)"
   ]
  },
  {
   "cell_type": "markdown",
   "id": "06061048-b276-42e0-93c4-f366be5f93e7",
   "metadata": {},
   "source": [
    "#### Found which countries from the list are and are not in the text. Created aliases for some countries that I verified existed in the text but were not matching. "
   ]
  },
  {
   "cell_type": "markdown",
   "id": "54b2196b-af1f-48ac-ae80-226c76ff64d4",
   "metadata": {},
   "source": [
    "### 5.\tUse the text file to create a NER object."
   ]
  },
  {
   "cell_type": "code",
   "execution_count": 30,
   "id": "bb5bfbf3-4cfb-4326-be11-029680c255ec",
   "metadata": {},
   "outputs": [],
   "source": [
    "book = NER(cleaned)"
   ]
  },
  {
   "cell_type": "markdown",
   "id": "f7ebf2e2-1894-4406-8c6f-7ad598cf2b6c",
   "metadata": {},
   "source": [
    "### 6.\tSplit the sentence entities from the NER object."
   ]
  },
  {
   "cell_type": "code",
   "execution_count": 33,
   "id": "11e8c827-e6d8-4f32-a072-f5c2bfcd9319",
   "metadata": {
    "collapsed": true,
    "jupyter": {
     "outputs_hidden": true
    }
   },
   "outputs": [
    {
     "name": "stdout",
     "output_type": "stream",
     "text": [
      "['the 20th century', 'the 21st century', 'today', 'the 20th century', 'the beginning of the century', 'the 20th century', 'the 1900s', 'the decade', '1914', 'the panama canal', 'africa', 'the 1900s', '1914 to 1918', 'first', '1914', '1918', 'franz', 'first', 'july 1914', 'november 1918', 'franz', 'july', 'the end of july 1914', 'british', 'france', 'russian', 'german', 'austria-hungary', '1 2', '1917', 'russia', 'germany', 'russia', 'russia', 'germany', '3', 'germany', 'american', '1918', '4', 'germans', '5', '6', '7', 'british', '8', '9', 'austria-hungary', '1918', 'the next twenty years', 'first', 'germans', 'germans', '10', 'germany', 'kaiser wilhelm', '11', 'europe', 'new states', 'yugoslavia', 'czechoslovakia', '12', '13', 'spanish', '1918', '1920', 'between 17 to 100 million', '14 15', '16', 'one', '17', '1917', 'nicholas ii', 'communist', 'europe', '19', 'european', 'vladimir lenin', '1924', 'a few years', 'joseph stalin', 'the soviet union', 'one', '20', '21', 'socialists', 'stalin', '22', '1929', 'first', \"the soviet union's\", 'the 1930s', '23', '1936', 'one', 'twenties', 'the 1920s', '29', 'the end of the decade', '24', 'millions', '25', '26', 'democratic', '27', 'two', 'the rest of the century', 'nazi', 'jewish', 'germans', 'jews', 'germany', '1933', 'first', 'italy', '1922', '28', '29', 'germany', '1933', 'germany', 'german', 'the nazi party', 'germany', 'german', 'german', 'eastern europe', 'german', '30', 'germans', 'jews', '31', 'western europe', 'the united states', '32', 'germany', '33', 'austria', 'germany', '1938', '34', 'german', 'czechoslovakia', '35', 'british', 'czech', 'czech', '36', 'eastern europe', '37', 'spain', 'francisco franco', 'the spanish civil war', '38', 'totalitarian', 'european', 'the soviet union', 'the 1930s', 'world war ii', '1945', 'world war ii', 'europe', 'article european', 'world war ii', 'world war ii', 'europe', 'moscow', '23', 'august 1939', 'czechoslovakia', 'britain', 'france', 'poland', 'world war ii', '1 september 1939', 'poland', 'britain', 'france', 'germany', 'poland', '39 sixteen days later', 'poland', 'soviet union', 'nazi germany', '40', 'only a few weeks', 'polish', 'london', 'polish', 'world war ii', 'germans', 'german', 'german', 'second', 'first', '41', 'poland', 'the soviet union', 'joseph stalin', 'ussr', 'germany', 'republics', 'estonia', 'latvia', 'lithuania', 'poland', 'soviet', '42', 'finland', 'soviet', 'winter', '43', 'germany', 'the soviet union', '1941', '44', 'poland', 'the winter of 1939 “', '1940', '45', 'denmark', 'norway', '9 april 1940', 'norway', 'swedish', 'a few crucial weeks', 'only six hours', '46 47', 'scandinavian', 'germany', '48', 'the 10 may 1940', 'germans', 'netherlands', 'luxembourg', '49', 'emael', 'belgian', '600', 'only 88', 'german', 'germans', '28', 'german', '50', 'france', 'only six weeks', 'paris', '14 june', 'three days later', 'germans', '51', 'france', 'one', 'first', 'a third', 'million', 'british', 'french', 'british', 'hitler', 'hermann g', 'german', '52', '1944', 'hitler', 'france', 'about three-quarters', 'atlantic', 'france', '53', 'french', 'charles de gaulle', 'french', 'france', '54', 'italy', '10 june', 'a few hundred yards', 'french', '55', 'italians', 'greece', '56', '57', 'german', '111', 'britain', 'britain', 'british', 'britain', 'british', 'first', 'germany', '2,698', 'german', 'the summer of 1940', 'raf', '58', 'germans', 'british', 'german', '59', 'british', 'berlin', '60', 'british', 'raf', 'germans', '61', 'britain', 'first', 'east', 'secondly', '62', 'britain', 'the soviet union', 'early spring of 1941', 'russian', 'winter', 'yugoslavia', 'mussolini', 'albania', 'yugoslavia', '63', 'several crucial weeks', 'ussr', '64', 'german', '1942', '22 june 1941', 'over three million', 'the soviet union', '65', 'soviet', 'stalin', 'germans', '66', '1941', 'german', '3', 'the present day', 'ukraine', '15 miles', 'moscow', 'soviet', 'german', 'moscow', 'stalin', 'germans', 'moscow', '67', 'mussolini', 'north africa', 'italian', 'libya', 'british', 'egypt', 'british', 'italians', 'libya', 'hitler', 'a few thousand', 'first', '68', 'british', 'egypt', 'the soviet union', 'the middle east', 'iraq', 'persia', 'iran', '69 70', 'the winter', 'the spring of 1942', '6th', 'german', 'hitler', '6th', 'german', 'hermann g', '6th', '6th', 'germans', '71', 'japanese', 'the united states', 'pearl harbor', 'hawaii', '7 december 1941', 'americans', 'german', 'us', 'japan', 'germany', 'japan', 'us', 'russia', 'germany', 'italy', 'the united states', 'a few days', '72', 'british', 'german', 'el alamein', '26', 'october 1942', '1942', '1943', 'soviets', 'germans', 'kursk', '73', 'north africa', 'el alamein', 'first', '74', 'hitler', 'the beginning of 1944', 'the soviet union', '75', 'the united states', 'britain', 'european', 'stalin', 'germans', 'africa', 'morocco', 'algeria', '8 november 1942', '76', '10 july 1943', 'italy', 'winston churchill', '9 september', 'italy', 'the winter of 1943', 'half', 'italy', 'italians', 'july', 'italians', '8 september', 'italians', '78', 'italy', 'german', 'mussolini', 'german', 'italian', 'german', 'germans', '4 june 1944', 'rome', '79', 'atlantic', '1942', '1944', '80', 'germans', 'britain', 'america', 'german', 'december 1943', 'germans', '81', '6 june 1944', 'europe', 'stalin', 'the early morning hours', '6 june', 'the day', 'd-day', 'france', 'germany', '82', 'germans', '83', 'u.s.', 'omaha beach', '6 june 1944', 'germany', '20 july 1944', 'german', 'second', '84', 'paris', 'german', 'joseph goebbels', 'nazis', '7000', '85', 'france', 'paris', '25 august.', '86', 'soviets', 'polish-soviet', 'first', '87', 'germans', 'germans', 'atlantic', 'september', 'netherlands', 'the winter of 1944', 'one', 'germans', 'second', 'american', '88 final days', 'early february 1945', 'three', 'franklin roosevelt', 'winston churchill', 'joseph stalin', 'the soviet union', '89', 'europe', 'eastern europe', 'britain', 'france', 'u.s.', 'four', 'berlin', 'the second half of the century', '90', 'the beginning of 1945', 'soviets', 'poland', 'germany', 'eastern europe', 'berlin', 'germans', 'germany', 'american', 'dwight d. eisenhower', 'berlin', 'germany', 'joseph goebbels', '91', '25 april', 'soviets', 'berlin', 'hitler', '30 april', '92', 'germans', 'another 7 days', 'germans', '7 may 1945', 'europe', '93', 'first', '18 september 1931', 'japanese', 'chinese', '94', 'japan', 'china', 'the next day', 'japanese', '95', '1932', 'lytton', 'japanese', 'japan', 'march 1933', '1934', 'chinese', 'pu yi', 'japan', '96', 'japan', 'china', '7 july 1937', 'chinese', 'japanese', 'the marco polo bridge incident', '97', 'second', 'sino-japanese', '98', 'japan', 'shanghai', 'chinese', 'nanjing', '1937', 'chinese', 'chinese', 'changsha', '1939', 'japan', '99', '27 september 1940', 'japan', 'germany', 'italy', '100', 'japanese', 'uss west virginia', '7 december 1941', 'japan', 'american', 'pearl harbor', 'u.s.', '101', 'the next day', 'the united states', 'japan', '2', '102 103', 'japan', 'thailand', 'british', 'malaya', 'singapore', 'hong kong', 'american', 'guam', '104', 'the next six months', 'japanese', 'two years', 'europe', 'north africa', 'japan', 'british', 'dutch', '105', 'march 1942', 'days', 'douglas macarthur', 'united states army forces', 'australia', '106', '19 february 1942', 'japan', 'australian', 'darwin', 'first', 'australian', '107', 'first', 'japanese', '108', 'one month later', 'us', 'japanese', '109', 'japanese', 'japanese', 'the united states', '110', 'solomon islands', 'japan', 'august 1942', '111', 'japanese', '1937 to 1942', 'the next two years', 'one', 'japan', 'july 1944', 'us', 'japan', 'boeing', 'b-29', '112', 'asia', 'japanese', 'india', 'the philippine sea', 'japan', '113', 'later october', 'american', 'australian', 'japanese', 'leyte gulf', 'world war ii', '114', 'japanese', '115', 'leyte gulf', 'first', 'japanese', '116', 'early 1945', 'americans', 'japanese', 'tokyo', 'japan', 'japanese', '117', 'american', 'japanese', 'more than 3 to 1', 'the 36 days', '6,800', 'another 20,000', '118', '119', 'japan', 'japanese', 'burma', 'china', 'japanese', '1 april 1945', 'us', 'okinawa', '120', 'kadena air base', 'japanese', 'only 340 miles', '121', 'approximately 160,000', 'at least 75,000', '84,166', '117,000', 'japanese', 'around half', '300,000', '122', 'paul', 'days', 'american', 'japan', 'over a million', 'american', '123', 'tokyo', 'dozens', 'japanese', '26 july', 'japan', '124', 'first', '6 august', '393d', 'tinian', 'hiroshima', 'three days later', 'second', 'nagasaki', 'two', '129,000', '226,000', '125', '9 august', 'the soviet union', '126', '10 august', 'japanese', '15', 'august', 'second', '127', 'japanese', '2 september 1945', 'uss missouri', 'tokyo', 'douglas macarthur', '128', 'millions', 'jews', 'world war ii', 'hitler', 'nazi', 'europe', 'about later', '129 130', 'jews', 'crystal night', 'night', '131', 'germans', 'poland', 'third', 'jews', 'jews', 'nazi', 'jews', 'tens of thousands', '132 133', 'the soviet union', 'jews', 'an estimated one million', '134', 'barbaric', 'nazi', '1942', 'berlin', 'jews', '135', 'nazis', 'poland', 'the soviet union', '136 137', 'nazi germany', '138', '139', 'nazis', 'auschwitz', '140', 'six million', 'up to 5 million', 'jehovah', '141', '143', 'soviet', '144 145', 'germans', '146', 'germans', '147', 'jews', 'german', '148', '149', 'the 1930s', '150', 'world war ii', 'nazi germany', 'the united states', 'the united kingdom', 'manhattan', 'the secret los alamos laboratory', 'new mexico', 'robert oppenheimer', 'first', 'first', 'july 1945', '151', 'germany', 'may 1945', 'german', '152', 'first', '16 july 1945', 'two', '153', 'japanese', 'hiroshima', 'nagasaki', '6 and 9', 'august 1945', 'soviet', 'japanese', 'japanese', 'two', 'only two', '154', 'first', 'the united states', 'the soviet union', 'first', 'august 1949', '155 156', 'two', 'two', 'the united states', 'first', '1950', 'first', '1952', 'over 400', 'japan', 'the soviet union', '1953', '1955', '157', '158', 'the 1940s', 'nine', 'today', 'the united states', 'the soviet union', 'russia', 'the united kingdom', 'france', 'china', 'india', 'pakistan', 'israel', 'north korea', '159', 'south africa', 'six', 'the 1980s', '160', 'israel', '161', '1968', '162', 'libya', 'iran', '163', 'world war ii', 'the united states', 'u.s.', '165', 'the united states', 'the soviet union', 'two', '166', 'western europe', 'marshall', 'germany', 'the united states', 'great britain', 'france', 'the soviet union', 'berlin', 'soviet', 'four', '167', 'berlin', '1990', 'japan', 'u.s.', 'last seven years', '1952', '168', 'two', 'second', 'japan', 'third', 'west germany', '169', 'german', 'nuremberg', 'tokyo', '170', 'world war ii', '171', 'the united nations', '24 october 1945', 'san francisco', '172', 'today', 'michael somare', 'first', 'world war ii', '173 174', 'european', 'decades', 'africa', 'asia', 'india', 'mahatma gandhi', 'indian', 'mohamed ali jinnah', 'muslims', '1947', 'british', 'india', 'modern-day', 'india', 'pakistan', '1971', '175 176', 'asia', 'the united states', '1946', '177', 'french', 'indochina', 'french', 'the early 1950s', 'laos', 'cambodia', 'vietnam', '178', 'africa', 'jomo kenyatta', 'kenya', 'kwame nkrumah', 'ghana', '179 mere decades', 'british', 'almost half', '1968', 'british', 'africa', '1976', 'between 1956 and 1962', 'almost 20', 'african', 'france', '180', 'portuguese', 'the mid-1970s', 'african', '181', '1946', '35', 'the united nations', '1970', '127', '182', 'africa', 'asia', '183', 'european', '184 185', 'second', 'second', 'the 20th century', '186', '1947', '1991', 'europe', 'eastern bloc', 'soviet union', 'europe', 'the next five decades', '187', 'march 1946', 'winston churchill', 'us', 'first', 'soviet', '188', 'eastern europe', 'warsaw', 'berlin', 'prague', 'vienna', 'budapest', 'belgrade', 'soviet', 'one', 'soviet', 'moscow', 'the soviet union', 'soviet', 'poland', '189', 'latvia', 'estonia', 'lithuania', '190', 'finland', 'karelo', '191', 'eastern romania', '192', 'soviet', 'between 1945 and 1949', 'yugoslavia', 'albania', 'bulgaria', 'poland', 'romania', 'czechoslovakia', 'hungary', 'east germany', 'republics', '193', 'soviet', 'the next half century', 'soviet', 'europe', 'communist', 'mongolia', 'china', 'north korea', 'cuba', 'vietnam', '194', 'soviet', 'world war ii', '195', 'two', 'atlantic', 'nato', '1949 196', 'warsaw', '1955', '197', 'korean', 'vietnam', 'cuban', 'two', 'the 1950s', 'communist', 'first', 'the korean war', 'china', 'north korea', 'mainly united states', 'south korea', 'korean', 'japanese', 'between 1910 and 1945', 'soviet', 'american', 'the 38th', '198', '199', \"north korea's\", 'south korea', '25 june 1950', '200', 'douglas macarthur', 'the united states', 'canada', 'australia', 'great britain', 'chinese', 'u.n.', 'july 1953', 'two', 'the century', '201', 'second', 'the vietnam war', 'third', 'the 20th century', 'world war ii', 'french', '21 july 1954', 'vietnam', 'two', 'korea', 'the united states', 'vietnam', '203', 'north vietnamese', 'american', 'u.s.', '204', 'americans', 'american', '205', '206', 'u.s.', 'richard nixon', 'nixon', 'american', 'south vietnamese', 'american air', 'nixon', '207', 'cambodia', 'south vietnamese', '208', 'u.s.', 'north vietnam', 'paris', 'u.s.', '209', 'u.s.', 'saigon', '30 april 1975', 'vietnam', 'communist', 'a year later', 'one', '210 211', 'cuban', 'cuba', \"fidel castro's\", 'the soviet union', '212', 'the united states', 'cuba', 'soviet', 'u.s.', 'john f. kennedy', 'the soviet union', 'a tense week', 'the soviet union', '213', '1969', 'first', 'the soviet union', 'united states', '1957', 'soviet', '215', 'two', '216', 'ussr', 'first', '2 217', 'first', '218', 'first', '2', '219', 'u.s.', 'apollo', '11', '20 july 1969', '220 five', '13', '221', 'u.s.', 'soviet', 'the early 21st century', '222 223', '7', '2', '224', 'later decades', 'american', 'first', '225', '226 227', 'the 1990s', 'the end of the century', 'the united states', 'europe', 'russia', 'japan', 'canada', '228', '1989', 'the berlin wall', 'east berlin', '1985-1991', 'the 1980s', 'the soviet union', 'sino-soviet', 'ussr', 'china', '229', 'u.s.', 'mikhail gorbachev', '230', '231', 'the berlin wall', '232', 'soviet', 'lithuania', '233', 'gorbachev', 'communist party', 'boris yeltsin', 'russia', '234', '26 december 1991', 'the soviet union', '235', 'first', 'world war ii', '236', 'at least 20', '237', '238', '239', '240', '2', '241 242', 'thousands', 'zx80', '243 244', 'ibm', 'ibm', 'ibm', 'third', '245', '246', '247', 'microsoft', '248', 'the 1980s', 'u.s.', '249', '250', 'first', '251', '252', '253', 'first', 'ibm', 'two', '254', '255', 'al gore', '256 257', 'america', 'tim berners-lee', \"vannevar bush's\", '258', '259', '260', '261', 'the century', 'the end of the century', 'article 1990s', 'the end of the century', '262', '263', 'daily', 'europe', 'first', 'indian', 'sixth', 'the end of the century', 'first', 'centuries', 'china', 'a fifth', 'west and east', 'africa', 'centuries', '264', 'the 21st century', '3.0', '5.4', 'second', 'first', 'the 19th century', '265', 'us', '266', 'anti-american', 'the middle east', '267', 'china', 'india', '268', 'third', 'south africa', 'nelson mandela', 'first', 'four and a half decades', 'rwanda', 'an estimated one million', 'the late century', 'oklahoma city', '168', 'kim jong-il', 'north korea', '269', 'west nile', '270 271', 'millions', 'africa', '272', 'several decades', '273', 'the kyoto treaty', '274', 'the 20th century', \"year's eve 1999\", \"year's\", 'day 2000', 'the turn of the millennium', \"the 20th century ended on new year's eve 2000\", 'the 21st century', \"year's\", 'day 2001', 'the 20th century', 'the 20th century', 'the 20th century', '1901-2000 20th century', '20th-century', '20th-century', 'september 2018', '11 december 2018', '11 december 2018', '5', 'march 2018', '11 december 2018', 'anthony', '6 august 2018', 'the hundred days', '11 december 2018', 'first', '11 december 2018', 'mason', '9 january 2018', 'britain', '11 december 2018', 'the day', 'first', '28 april 2016', '11 december 2018', '8 january 2018', 'britain', '11 december 2018', 'dunleavy', '23 april 2018', '11 december 2018', '11 december 2018', 'first', 'first', 'german', '10', 'november 1918', '11 december 2018', 'czechoslovakia', 'yugoslavia', 'first', '11 december 2018', 'bbc', 'the united nations', 'bbc', '11 december 2018', '17 december 2019', 'discovery', '1918', '19 september 2022', 'spreeuwenberg', 'september 2018', '1918', '187', '2567', '10.1093', 'kwy191', 'pmc', '7314216', '30202996', '17 september 2024', 'barry', '2021', '397', '398', '978', 'december 2007', '1918', '196', '11 1717', '18', '1718', '19', '10.1086 522355', '18008258', 'morens dm', 'april 2007', '1918', 'the 21st century', '195', '7 1018 “1028', '10.1086', '511989', 'pmid 17330793', 'schmitt', 'hans a. virginia', 'university of 1988', 'europe', '1916 23', 'charlottesville', 'va university of virginia', '238', '9780813911533', 'u.s.s.r.', '11 december 2018', '11 december 2018', '2012', 'stalin', '147 3', '11 december 2018', '13 april 2018', '1929', '11 december 2018', 'allen p.', '11 december 2018', 'south african', '22 march 2011', '11 december 2018', 'edwin carruthers', 'bruce g. october 1988', 'the formative years', 'u.s.', 'american', 'american', '53 5', '678', '10.2307 2095814', '2095814', 'ebner', 'michael', '30 january 2017', '1091-2339', '11 december 2018', 'douglasandslavery', '6', 'benito mussolini', 'italian', 'italian', '11 december 2018', 'john 1999', 'central european university', '32', '33', '4546842', 'steinweis', 'alan e. rogers', 'daniel e. 2003', 'third', 'lincoln london university of nebraska', '83', '9780803242999', 'gritz', 'jennie', '13 march 2012', 'american', 'atlantic', '11 december 2018', 'british', '20 april 2019', '11 december 2018', 'hitler', 'austria', '5 november 2009', '11 december 2018', 'nelsson', '21 september 2018', 'munich', 'september 1938', '0261-3077', '11 december 2018', 'klaus 2 september 2009', 'world war ii', 'der spiegel', '11 december 2018', '11 june 2014', '11 december 2018', 'michael', '24 july 2016', 'spanish', 'world war ii', '11 december 2018', 'bbc', 'poland', 'bbc', '12 december 2018', 'two', '23.08.2014', 'deutsche welle', '12 december 2018', '12 december 2018', 'german-soviet', '12 december 2018', 'winter', 'russia', 'finland', '12 december 2018', 'finland', 'nazi germany', '23 february 2018', '0261-3077', '12 december 2018', 'britain', 'second', '12 december 2018', 'bbc', 'two', 'bbc', '12 december 2018', 'germany', 'norway', '17', '478', '20 april 1940', '25642756', 'levine', 'paul a. 2002', 'swedish', 'second', 'wylie', 'neville ed.', 'european', 'second', 'cambridge university press', '9780521643580', '1940', 'germans', 'bbc', '10 may 1940', '12 december 2018', 'tim 1 january 2005', 'fort eben emael', '9781844152551', 'france', '21 july 2010', '12 december 2018', 'may 1940', 'historic uk.', '12 december 2018', 'this day', 'france', 'nazi germany', '22 june 2011', '12 december 2018', 'zimmerman', 'charles de gaulle', 'french', '12 december 2018', '15 march 2008', \"de l'arm e des alpes\", '10', '25', '250 85', '93', '10.3917', '0035-3299', '266611484', 'italy', 'world war ii', 'dunyanews.tv', '14 february 2008', '12 december 2018', 'italy', 'world war ii', '28 july 2017', '12 december 2018', '1940', 'raf', 'britain', '15 september 1940', '12 december 2018', 'october 2008', 'germany', '87', 'air force magazine', '12 december 2018', 'bbc', 'britain', 'berlin', 'bbc', '12 december 2018', 'bbc', 'britain', 'bbc', '12 december 2018', 'britain', '12 december 2018', 'middleton', '21 june 1981', 'hitler', 'russian', 'the new york times', '0362-4331', '12 december 2018', 'william l. 1960', 'third', 'new york', '829', '830', 'lccn 60-6729', '29 october 2009', '12 december 2018', '13 june 2007', '12 december 2018', 'hickman', 'kennedy', '19 september 2018', 'moscow', '12 december 2018', 'africa', '16 november 2009', '12 december 2018', 'world war ii', 'north africa', '12 june 2006', '12 december 2018', 'world war ii', 'the middle east', '12 december 2018', 'germany', 'sixth', 'world war ii', '12 june 2006', '12 december 2018', 'germany', 'the united states', '16 november 2009', '12 december 2018', 'michael 27 october 2017', 'kursk', '12 december 2018', 'barr', '2004', 'three', 'el alamein', '9781585676552', 'richard j.', 'september 2009', 'hitler', 'second', '0261-3077', '12 december 2018', 'brian lane', '21 september 2017', '1942', 'french', 'north africa', '9781472820563', '75 years ago', 'us', 'italy', 'the national wwii museum new orleans', '6 september 2018', '12 december 2018', '1943', 'italy', 'bbc', '8 september 1943', '12 december 2018', 'rome', 'italy', 'american', '5 june 2015', '12 december 2018', 'syrett', 'david 1994', 'german', 'atlantic', 'columbia', 'south carolina', 'pp.', '9780872499843', 'atlantic', '12 december 2018', 'ross', 'john', '15 april 2014', 'd-day', '9780762786633', 'hall', '2003', 'd-day', '84', '9780760316078', 'palek', '27 april 2015', '1944', 'university of cambridge', '12 december 2018', 'michael 1988', 'london', '258', '9781136088605', 'aug. 25,', '1944', 'paris', '4-year', 'nazi', '25 august 2011', '12 december 2018', 'hollingham', 'richard 8', 'september 2014', 'nazi', 'bbc', '13 december 2018', '10', 'world war ii', '15 december 2018', '12 december 2018', 'second', '12 december 2018', '1941', '56', 'bbc', '13 december 2018', 'alexander perry biddiscombe', '1998', 'werwolf', '1944', '1946', 'toronto university of toronto press', '252', '9780802008626', '2009', '199', '9781602398047', 'may 7, 1945', 'germany', 'world war ii', '7 may 2012', '12 december 2018', 'horvitz', 'leslie alan catherwood', '2006', 'new york', '128', '9781438110295', 'han', 'suk-jung', '12', 'august 2004', '1932', '1937', 'east asia', '12', '457', '478', '10.1215', '10679847-12', '1527-8271', '143561025', 'bbc', 'japan', 'bbc', '13 december 2018', 'cavendish', '7 july 2012', 'the marco polo bridge incident', 'today', '62 7', 'kaiser, davi', '7 july 2017', '80 years ago', 'today', '13 december 2018', 'second', 'sino-japanese', '45', 'anti-japanese', 'eight year', '13 december 2018', 'three', 'germany', 'italy', 'japan', 'berlin', 'september 27, 1940', '13 december 2018', 'japan', '13 october 2017', '13 december 2018', 'the united states', 'japan', '16 november 2009', '13 december 2018', 'japan us house of representatives', '8 december 1941', '13 december 2018', '1 december 1982', 'the pacific war 1941', '1945', 'collins', '9780688016203', '13 december 2018', 'macarthur', '15 november 2016', '13 december 2018', 'darwin australian', '16 december 2018', '13 december 2018', '13 december 2018', 'keegan', 'john 2005', 'second', 'new york', '275', '978', 'gordon w. goldstein', 'donald m. dillon', 'katherine v. 1982', 'miracle', '4', '9781480489455', 'ian w. 21 september 2015', 'the pacific islands', '1942', '1944', 'the pacific islands', '1942', '1944', 'w. w. norton', '9780393248203', 'second', 'guam marine corps association', '16 december 2018', '13 december 2018', 'the philippine sea', '29 june 2018', '13 december 2018', 'norwich university', '8 december 2015', '13 december 2018', 'murphy', 'daniel t.', '13 february 2018', '13 december 2018', 'nichols', 'robert spring 2004', 'first', '28', 'brimelow', '23 february 2018', '73 years ago', 'world war ii', '13 december 2018', 'alexander', 'joseph', '17 february 2018', '36-day', '13 december 2018', 'robert s. 23 september 2004', '68 4 1143', '1186', '10.1353 jmh.2004.0175', '1543-7795', 's2cid 159781449', 'lacey', '13', 'april 2003', 'okinawa .', '13 december 2018', 'macarthur', 'douglas johnson', 'harold k. 1994', 'macarthur', 'pacific', '395', '9781782660354', '13 december 2018', 'michael 7 august 2018', 'america', 'japan', '13 december 2018', 'potsdam', 'hiroshima', 'nagasaki', '13 december 2018', '3 september 2018', 'hiroshima', 'nagasaki', '13 december 2018', '26', 'august 2018', 'soviet', 'japanese', '13 december 2018', 'andrew glass', '14 august 2018', 'hirohito', 'japan', 'aug. 14, 1945', 'politico', '13 december 2018', 'japanese', '1945', 'national archives foundation', '13 december 2018', 'levi', 'neil rothberg', 'michael 2003', 'edinburgh university', '9780748616558', 'boston', '15 december 2018', '9', 'november 1938', '15 december 2018', '22 june 1933', '15 december 2018', 'cbs news', '16 july 2017', '15 december 2018', 'richard 18 december 2007', 'doubleday publishing group', '9780307426802', '19 january 2017', '15 december 2018', '15 december 2018', 'arnett', '27 january 2015', 'auschwitz', '0261-3077', '15 december 2018', 'kirsch', '6 april 2015', 'two', 'nazi', '15 december 2018', 'ghooi', 'ravindra b. 2011', 'nuremberg', '2 2', '76', '10.4103', '2229-3485', '3121268', '21731859', 'gutman', 'israel', '1990', '4', 'new york macmillan', '1751', '9780028960906', '11 august 2013', '6 million', '15 december 2018', 'blumberg', '27 january 2015', 'holocaust', '5 million', 'non-jewish', 'nazis', '15 december 2018', 'non-jewish', '15 december 2018', 'nazi', 'soviet', '15 december 2018', 'mason', '18 june 2018', 'europe', 'second', '15 december 2018', '5', 'october 2011', 'nazi crimes diaries', 'germans', 'der spiegel', '15 december 2018', 'john 17 february 2001', 'germans', '0261-3077', '15 december 2018', '15 december 2018', 'joe', '21 november 2018', 'joe mulhall', '0261-3077', '15 december 2018', 'bbc news', '4 october 2013', '17 december 2018', 'manhattan', 'atomic heritage', '12 may 2017', '17 december 2018', 'german', 'atomic heritage', '18 october 2016', '17 december 2018', 'stockbauer', '18 august 1999', 'stanford', '8 november 2019', '17 december 2018', 'atomic heritage', '23 july 2014', '17 december 2018', 'manhattan', 'manhattan', '1940 “1945', 'u.s. department of energy office', '17 december 2018', '29', 'august 1949', 'first', 'soviet', '17 december 2018', '17 december 2018', '15 february 2012', 'bbc news', '17 december 2018', 'stockholm international peace research institute', '16 june 2014', '17 december 2018', '9 september 2017', 'one', 'atlantic', '18 december 2018', 'depetris', 'daniel r.', '31 july 2018', 'israel', '5', '18 december 2018', '25 july 2014', '18 december 2018', 'libya', 'libya nuclear disarmament', 'nti.org', '18 december 2018', 'iran', 'iran', 'al jazeera', 'al jazeera.', '18 december 2018', 'andrews', 'evan', '23 october 2012', '5', 'u.s.', 'world war ii', '18 december 2018', '24 january 2011', 'the soviet union', '1945', '210 103', '120', '10.1093', 'gtq042', 'germany', 'the cold war', '1989', 'europe', '18 december 2018', '1945', '1952', '18 december 2018', 'james poole', 'michele a. long', 'george w. bush', 'rand corporation', '11', '9780833041814', 'nuremberg', 'the tokyo war', '1948', '18 december 2018', '9 december 2014', '18 december 2018', 'the united nations', 'united nations', '21 august 2015', '18 december 2018', 'parker', 'clifton b.', '29 october 2014', 'gandhi', 'stanford', 'stanford university.', '20 december 2018', 'mcquade', 'joseph 9', 'november 2016', 'india', '20 december 2018', 'henderson', '15 august 2017', 'indian', 'india', 'pakistan', '70 years', '0307-1235', '18 december 2018', '16 december 2011', 'one', 'bbc news', '18 december 2018', 'philippines', '1898', '1946', '18 december 2018', 'dien bien phu', 'french', 'indochina', '1954', '18 december 2018', 'a. b. 1998', 'african', 'jomo kenyatta', 'kwame nkrumah', 'julius k. nyerere', '9780894649110', 'african', 'radio france internationale', '16 february 2010', '18 december 2018', 'aires oliveira', '24 may 2017', 'portuguese africa', 'oxford research encyclopedia', 'african', '1', '10.1093', '9780190277734.013.41', '9780190277734', 'asia', 'africa', '1945', '1960', '18 december 2018', 'max', '10 september 2012', 'africa', 'atlantic', '20 december 2018', '28 april 2010', 'colonial cartographies', 'afghanistan', 'pakistan', 'brooklyn journal of international law', '20 1 1', 'ssrn', '1596835', 'hyde', 'tim', '13 july 2016', 'europeans', 'africa', 'american economic association', '18 december 2018', '7', 'africa', 'africa', '14 march 2017', '20 december 2018', '1989', '20 december 2018', 'churchill', '5 march 1946', '20 december 2018', 'roberts', '2006', 'stalin', '1939', '1953', 'yale university', '43', '9780300112047', 'smulkstys', 'summer 1968', 'the soviet union', 'quarterly', '14 2', '0024-5089', '16 august 2016', '20 december 2018', 'the end of wwii', 'europe', 'european', '20 december 2018', '2000', 'moldovans', 'russia', 'pp', '94', '9780817997922', 'alan 2005', 'stalin', '2nd ed.', 'london', 'new york', '63', '9780415307321', '26', 'october 2016', 'red century', 'october', '1917', 'north korea', 'one', 'washington', '27 october 2017', '20 december 2018', 'october 1998', 'daily', '20 april 2016', '20 december 2018', 'atlantic', 'nato', '1949', '20 december 2018', 'rosenberg', 'matt', '30 september 2018', 'warsaw', '20 december 2018', 'mcdonough', 'richard 13 june 2018', 'the korean war', '20 december 2018', 'january 2018', 'korean', 'the new york times', '0362-4331', '20 december 2018', 'hastings', 'max', '1987', 'korean', 'new york', '55', '9780671668341', '2010', 'the korean war', 'new york', '198', '9780679603788', 'kinzer', '2013', 'john foster', 'new york henry', '195', '9781429953528', 'johnson', 'david 15', 'may 2009', 'thomas dooley', 'american', 'vietnam', 'university of new orleans', 'mike', '1971', 'vietnam', 'february 1964', 'january 1965', 'pentagon', '3', 'boston beacon', 'pp', '106', '268', 'zelizer', 'julian e.', '15 january 2018', 'american', 'atlantic', '20 december 2018', 'zimmerman', '24 october 2017', 'four', 'the new york times', '0362-4331', '20 december 2018', '13 march 2018', 'nixon', 'vietnam', 'johnson', 'smithsonian', '20 december 2018', 'becker', 'elizabeth mydans', '14 october 2012', 'norodom sihanouk', 'cambodian', '89', 'the new york times', '0362-4331', '20 december 2018', 'michaels', 'jeffrey 19 may 2017', 'vietnam', 'paris', 'november 1968', 'january 1969', '20 december 2018', 'kaiser', 'david 30', 'april 2015', 'saigon', '20 december 2018', 'woollacott', 'martin 21', 'april 2015', 'forty years', 'saigon', 'the vietnam war', '0261-3077', '20 december 2018', 'soviet-cuban', '1959 “1991', 'september october 1994', '28 january 2009', '0015-7120', '20 december 2018', 'cuban', 'thirteen days', 'october 1962', 'cuban', 'john f. kennedy', '20 december 2018', 'cuban', 'atomic heritage', '15 june 2018', '20 december 2018', 'ussr', 'national geographic', '17 december 2013', '20 december 2018', '20 december 2018', '02', '20 december 2018', '12', 'april 2010', 'yuri', 'first', '20 december 2018', 'colin hall', '2009', 'first', 'soviet', 'ed', 'berlin', '252', '978-0387848242', '18 march 2023', '16', 'august 2019', 'robert z.', '20 july 2018', '50 years ago', '11', 'one year', '20 december 2018', 'apollo', '1963', '1972', 'nasa', '20 december 2018', 'ingham', 'lucy', '16 january 2018', 'soviet', 'first', '20 december 2018', 'keldysh', 'm.v.', 'april 1977', '9 and venera 10', '30', '625', '1977icar...30', '10.1016', '0019-1035', '0019-1035', 'howell', 'elizabeth', '10 december 2018', '2', '20 december 2018', 'tim 11 december 2017', 'first', '20 december 2018', '19 february 2016', '20 december 2018', 'jason 14', 'may 2013', 'skylab', 'america', 'first', 'jalopnik', '20 december 2018', 'iss', '15 october 2009', '26 april 2018', '20 december 2018', 'farley', '6 march 2017', 'sino-soviet', '20 december 2018', '22 june 2015', 'seventeen', 'moments', 'soviet', '20 december 2018', 'kramer', '12 december 2011', 'solidarity', 'the new york times', '0362-4331', '20 december 2018', 'bonnell', '3 october 2018', 'the berlin wall', '20 december 2018', 'egorov', 'boris', '23 august 2018', 'the soviet union', '20 december 2018', 'sandford', '20 august 2011', 'boris yeltsin', '1991', 'bbc news', '20 december 2018', 'schmemann', '26', 'december 1991', 'the soviet union', 'soviet', 'the new york times', '0362-4331', '20 december 2018', 'thomas h. july 1983', 'howard campaigne', '5 3', '239', '252', '10.1109', 'issn', '1058-6180', '39816473', 'gordon e. october 2006 1965', '38', '8', 'april 19, 1965', '11', '35', '10.1109', 's2cid 24300252', 'szczepaniak', 'john may 2014', '50th', '27 december 2018', '27 december 2018', '27 december 2018', 'kellaway', 'lucy', 'august 2013', 'bbc news', '27 december 2018', 'alfredo', 'david 26', 'september 2017', '27 december 2018', 'tom 11 february 2016', '1980s', 'britain', '9781472918352', 'may 2011', 'maher', 'jimmy', '30 june 2017', 'ibm', 'one', 'the century', '27 december 2018', '29 may 2014', '27 december 2018', '26 may 2014', 'ibm', '27 december 2018', '2008', 'microsoft', '9781583416075', '27 december 2018', 'williams', 'sam 2010', '2.0', '9780983159216', 'steve l. 2001', '9780761536437', 'stanton', '14 july 2015', '9780762456154', '1967', '2011', '13 april 2011', '27 december 2018', 'edwards', 'november 2016', 'atlantic', '27 december 2018', '27 december 2018', 'lee', 'timothy b.', '16 june 2014', 'vox', '27 december 2018', 'flanagan', 'graham', 'al gore', '27 december 2018', 'wright', 'alex 22 may 2014', 'atlantic', '27 december 2018', '25 years', '3 july 2018', '27 december 2018', 'estrada', 'susan 1992', '2 3', '28', '10.1108', '17', 'cb insights research', '14 september 2016', '27 december 2018', '2024', '23 december 2012', '1', 'august 2013', 'lukacs', 'john 1993', 'the end of the twentieth century', '9780395584729', 'johnson', '2008', 'three', '29 december 2018', 'fraser', 'nick 2', 'november 2014', '0261-3077', '29 december 2018', 'january 2016', 'anti-american', 'the middle east', 'lebanon', 'the journal of politics', '78 1 311', '325', '10.1086 683372', '146972591', 'peng er lim', 'tai-wei', '2009', 'china', 'india', 'asian', 'singapore', '10.1142', '7381', '9789814280334', 'south korean', '13 june 2000', '0261-3077', '29 december 2018', 'lee', 's. h. 1', 'september 2003', 'hong kong', 'journal of epidemiology community health', '57', '652', '654', '10.1136', 'jech.57.9.652', '1470-2738', '1732583', '12933765', 'sejvar', 'james j. 2003', 'west nile', '5 3', '10', '1524-5012', '3111838', '21765761', 'kagaayi', 'joseph serwadda', 'david', 'august 2016', 'africa', '13', '187', '193', '10.1007', '1548-3576', '27188298', '8292731', '5', 'august 2018', 'the decade', 'the new york times', 'pp', '4', '0028-7822', '15 january 2022', 'henson', 'robert 11 march 2011', '0261-3077', '29 december 2018', '28 february 2008', 'the twentieth century', 'vii.', 'routledge', '600', '978', 'the 20th century', 'the 20th century', '26', 'february 2012', 'the twentieth century', '6', 'february 2012', 'the 20th century', '17', 'january 2005', 'centuries', 'the 20th century']\n"
     ]
    }
   ],
   "source": [
    "entities = [ent.text for ent in book.ents]\n",
    "print(entities)"
   ]
  },
  {
   "cell_type": "markdown",
   "id": "c8e84bdc-145d-437b-a810-75c50aea4375",
   "metadata": {},
   "source": [
    "### 7.\tFilter the entities so that you end up only with the ones from your countries list"
   ]
  },
  {
   "cell_type": "code",
   "execution_count": 34,
   "id": "554af0df-fff8-4a91-bc85-1111baecc453",
   "metadata": {},
   "outputs": [],
   "source": [
    "# Extract entities labeled as GPE or LOC (already lowercase)\n",
    "entities = [ent.text.lower() for ent in book.ents if ent.label_ in (\"GPE\", \"LOC\")]"
   ]
  },
  {
   "cell_type": "code",
   "execution_count": 35,
   "id": "ee60c517-b352-407a-a6bc-4c5690559a23",
   "metadata": {},
   "outputs": [],
   "source": [
    "# Filter entities to keep only those present in your country_list\n",
    "filtered_countries = [ent for ent in entities if ent in country_list]"
   ]
  },
  {
   "cell_type": "code",
   "execution_count": 36,
   "id": "e7e9b558-f328-4399-8357-e61bd9ca1750",
   "metadata": {},
   "outputs": [],
   "source": [
    "# Optional: Remove duplicates but keep original order\n",
    "filtered_countries = list(dict.fromkeys(filtered_countries))"
   ]
  },
  {
   "cell_type": "code",
   "execution_count": 37,
   "id": "8746d202-24f7-48f5-ae65-9fc68b3a3db2",
   "metadata": {},
   "outputs": [
    {
     "name": "stdout",
     "output_type": "stream",
     "text": [
      "Countries found in text: ['france', 'russia', 'germany', 'italy', 'austria', 'spain', 'poland', 'estonia', 'latvia', 'lithuania', 'finland', 'denmark', 'norway', 'netherlands', 'luxembourg', 'greece', 'albania', 'ukraine', 'libya', 'egypt', 'iraq', 'iran', 'japan', 'morocco', 'algeria', 'thailand', 'singapore', 'australia', 'solomon islands', 'india', 'pakistan', 'israel', 'south africa', 'laos', 'cambodia', 'vietnam', 'kenya', 'ghana', 'bulgaria', 'romania', 'hungary', 'mongolia', 'cuba', 'canada', 'united states', 'rwanda', 'philippines', 'afghanistan', 'lebanon']\n"
     ]
    }
   ],
   "source": [
    "print(\"Countries found in text:\", filtered_countries)"
   ]
  },
  {
   "cell_type": "markdown",
   "id": "43fa033a-080b-4094-b6eb-b40fee91a8d4",
   "metadata": {},
   "source": [
    "### Try again with aliases"
   ]
  },
  {
   "cell_type": "code",
   "execution_count": 38,
   "id": "98debdf0-fd7c-4acf-9321-d53e9b181bc4",
   "metadata": {},
   "outputs": [
    {
     "name": "stdout",
     "output_type": "stream",
     "text": [
      "Countries found in text (canonical names): ['france', 'russia', 'germany', 'italy', 'austria', 'spain', 'poland', 'estonia', 'latvia', 'lithuania', 'finland', 'denmark', 'norway', 'netherlands', 'luxembourg', 'greece', 'albania', 'ukraine', 'libya', 'egypt', 'iraq', 'iran', 'japan', 'morocco', 'algeria', \"china, people's republic of\", 'thailand', 'singapore', 'australia', 'solomon islands', 'india', 'pakistan', 'israel', 'korea, north', 'south africa', 'laos', 'cambodia', 'vietnam', 'kenya', 'ghana', 'bulgaria', 'romania', 'hungary', 'mongolia', 'cuba', 'korea, south', 'canada', 'united states', 'rwanda', 'philippines', 'afghanistan', 'lebanon']\n"
     ]
    }
   ],
   "source": [
    "# Your alias mapping\n",
    "country_aliases = {\n",
    "    'korea, north': 'north korea',\n",
    "    'korea, south': 'south korea',\n",
    "    \"china, people's republic of\": 'china',\n",
    "    'congo, democratic republic of the': 'congo',\n",
    "    # add more as needed\n",
    "}\n",
    "\n",
    "# Create a reverse alias map for quick lookup: alias → canonical name\n",
    "# Example: 'north korea' → 'korea, north'\n",
    "reverse_aliases = {v: k for k, v in country_aliases.items()}\n",
    "\n",
    "# Extract entities labeled as GPE or LOC (already lowercase)\n",
    "entities = [ent.text.lower() for ent in book.ents if ent.label_ in (\"GPE\", \"LOC\")]\n",
    "\n",
    "filtered_countries = []\n",
    "\n",
    "for ent in entities:\n",
    "    # Map alias back to canonical if exists, else keep original\n",
    "    canonical_name = reverse_aliases.get(ent, ent)\n",
    "    \n",
    "    # Check if canonical name is in your country list\n",
    "    if canonical_name in country_list:\n",
    "        filtered_countries.append(canonical_name)\n",
    "\n",
    "# Remove duplicates but preserve order\n",
    "filtered_countries = list(dict.fromkeys(filtered_countries))\n",
    "\n",
    "print(\"Countries found in text (canonical names):\", filtered_countries)\n"
   ]
  },
  {
   "cell_type": "markdown",
   "id": "cfe7a948-6e96-4ad2-9fad-469a4cc39423",
   "metadata": {},
   "source": [
    "### 8.\tCreate the relationships dataframe"
   ]
  },
  {
   "cell_type": "code",
   "execution_count": 39,
   "id": "1607609e-faf7-42fa-920b-6ed60bc2425d",
   "metadata": {},
   "outputs": [
    {
     "name": "stdout",
     "output_type": "stream",
     "text": [
      "        country_1    country_2\n",
      "0          france       russia\n",
      "1          france      germany\n",
      "2          france        italy\n",
      "3          france      austria\n",
      "4          france        spain\n",
      "...           ...          ...\n",
      "1321       rwanda  afghanistan\n",
      "1322       rwanda      lebanon\n",
      "1323  philippines  afghanistan\n",
      "1324  philippines      lebanon\n",
      "1325  afghanistan      lebanon\n",
      "\n",
      "[1326 rows x 2 columns]\n"
     ]
    }
   ],
   "source": [
    "import itertools\n",
    "\n",
    "# Generate unique country pairs (no duplicates like (germany, germany))\n",
    "pairs = list(itertools.combinations(filtered_countries, 2))\n",
    "\n",
    "# Create DataFrame\n",
    "relationships_df = pd.DataFrame(pairs, columns=['country_1', 'country_2'])\n",
    "\n",
    "print(relationships_df)\n"
   ]
  },
  {
   "cell_type": "code",
   "execution_count": 42,
   "id": "19d30655-eedb-4ebf-895d-9eca082d4cfa",
   "metadata": {},
   "outputs": [
    {
     "name": "stdout",
     "output_type": "stream",
     "text": [
      "          country_1      country_2  mentions\n",
      "0       afghanistan        albania         1\n",
      "890     afghanistan      australia         1\n",
      "888     afghanistan       bulgaria         1\n",
      "887     afghanistan       cambodia         1\n",
      "886     afghanistan         canada         1\n",
      "...             ...            ...       ...\n",
      "441        thailand  united states         1\n",
      "440        thailand        vietnam         1\n",
      "439         ukraine  united states         1\n",
      "438         ukraine        vietnam         1\n",
      "1325  united states        vietnam         1\n",
      "\n",
      "[1326 rows x 3 columns]\n"
     ]
    }
   ],
   "source": [
    "# Step 1: Generate all pairwise combinations (excluding self-pairs)\n",
    "pairs = list(itertools.combinations(filtered_countries, 2))\n",
    "\n",
    "# Step 2: Sort each pair alphabetically so (france, germany) == (germany, france)\n",
    "sorted_pairs = [tuple(sorted(pair)) for pair in pairs]\n",
    "\n",
    "# Step 3: Create a DataFrame and count occurrences\n",
    "relationships_df = pd.DataFrame(sorted_pairs, columns=['country_1', 'country_2'])\n",
    "relationships_df = relationships_df.value_counts().reset_index(name='mentions')\n",
    "\n",
    "# Step 4: Sort by number of mentions (descending)\n",
    "relationships_df = relationships_df.sort_values(by='mentions', ascending=False)\n",
    "\n",
    "print(relationships_df)"
   ]
  },
  {
   "cell_type": "markdown",
   "id": "8b1224d7-2daf-43d3-a6e3-43c47dfeec15",
   "metadata": {},
   "source": [
    "### 9.\tSave and export your dataframe."
   ]
  },
  {
   "cell_type": "code",
   "execution_count": 43,
   "id": "f03b2e6a-40dc-4e9e-91f3-812f5e9c9448",
   "metadata": {},
   "outputs": [],
   "source": [
    "relationships_df.to_csv(\"country_relationships.csv\", index=False)"
   ]
  }
 ],
 "metadata": {
  "kernelspec": {
   "display_name": "Python [conda env:venv_20th_century]",
   "language": "python",
   "name": "conda-env-venv_20th_century-py"
  },
  "language_info": {
   "codemirror_mode": {
    "name": "ipython",
    "version": 3
   },
   "file_extension": ".py",
   "mimetype": "text/x-python",
   "name": "python",
   "nbconvert_exporter": "python",
   "pygments_lexer": "ipython3",
   "version": "3.13.5"
  }
 },
 "nbformat": 4,
 "nbformat_minor": 5
}
