{
 "cells": [
  {
   "cell_type": "markdown",
   "id": "a025493d-f2f5-43eb-851d-e5df49b38ee2",
   "metadata": {},
   "source": [
    "# 1.4: Accessing Web Data with Data Scraping"
   ]
  },
  {
   "cell_type": "markdown",
   "id": "3295719e-659d-479c-884b-8f39e00700f5",
   "metadata": {},
   "source": [
    "### Install all the pips"
   ]
  },
  {
   "cell_type": "markdown",
   "id": "7660717b-cfe8-4e81-949f-9a9d373ce7bb",
   "metadata": {},
   "source": [
    "pip install selenium"
   ]
  },
  {
   "cell_type": "markdown",
   "id": "52b2d8a6-aa64-4a84-887f-6db7c9e48959",
   "metadata": {},
   "source": [
    "!pip install selenium webdriver-manager"
   ]
  },
  {
   "cell_type": "markdown",
   "id": "4f80ee1f-9058-4024-8654-1b26299b4e16",
   "metadata": {},
   "source": [
    "!pip install matplotlib"
   ]
  },
  {
   "cell_type": "markdown",
   "id": "264b3b61-79df-49df-8e93-2b67f016e8b1",
   "metadata": {},
   "source": [
    "!pip install beautifulsoup4"
   ]
  },
  {
   "cell_type": "markdown",
   "id": "243b8b82-5ec5-4f0e-9483-f28f03a6e8a8",
   "metadata": {},
   "source": [
    "### Import libraries"
   ]
  },
  {
   "cell_type": "code",
   "execution_count": 2,
   "id": "66fdc6f7-e647-422f-acbc-ebdee685f12e",
   "metadata": {},
   "outputs": [],
   "source": [
    "import pandas as pd\n",
    "import time\n",
    "from selenium import webdriver\n",
    "from webdriver_manager.chrome import ChromeDriverManager\n",
    "from selenium.webdriver.common.by import By\n",
    "from selenium.webdriver.chrome.service import Service\n",
    "from selenium.webdriver.chrome.options import Options\n",
    "import matplotlib.pyplot as plt\n",
    "import os\n",
    "import logging\n",
    "import requests\n",
    "import bs4"
   ]
  },
  {
   "cell_type": "markdown",
   "id": "25ece0d1-e8a9-497a-a7b5-73bca126a016",
   "metadata": {},
   "source": [
    "### Setup chrome options"
   ]
  },
  {
   "cell_type": "code",
   "execution_count": 3,
   "id": "930667b3-1ef4-4b3c-ac6a-77d8c808fb73",
   "metadata": {},
   "outputs": [],
   "source": [
    "chrome_options = Options()\n",
    "chrome_options.add_argument(\"--headless\") # Ensure GUI is off\n",
    "chrome_options.add_argument(\"--no-sandbox\")"
   ]
  },
  {
   "cell_type": "markdown",
   "id": "cdffe255-6ecd-4fbc-a3ce-d13a0770c751",
   "metadata": {},
   "source": [
    "### Install chrome drive"
   ]
  },
  {
   "cell_type": "code",
   "execution_count": 4,
   "id": "b05b300f-51fb-4724-bb06-bc1669b40447",
   "metadata": {},
   "outputs": [],
   "source": [
    "from selenium import webdriver\n",
    "from selenium.webdriver.chrome.service import Service\n",
    "from webdriver_manager.chrome import ChromeDriverManager\n",
    "\n",
    "# Create a Service object\n",
    "service = Service(ChromeDriverManager().install())\n",
    "\n",
    "# Launch the Chrome browser\n",
    "driver = webdriver.Chrome(service=service)"
   ]
  },
  {
   "cell_type": "code",
   "execution_count": 5,
   "id": "2d9d011c-4b61-4441-8897-cd95692a8b17",
   "metadata": {},
   "outputs": [],
   "source": [
    "# Get the page's contents\n",
    "\n",
    "page_url = \"https://en.wikipedia.org/wiki/Key_events_of_the_20th_century\"\n",
    "driver.get(page_url)"
   ]
  },
  {
   "cell_type": "code",
   "execution_count": 6,
   "id": "fe651350-023f-4229-90c4-15dbe73f25eb",
   "metadata": {},
   "outputs": [],
   "source": [
    "# Step 2: Wait for page to fully load (simple wait)\n",
    "time.sleep(3)"
   ]
  },
  {
   "cell_type": "code",
   "execution_count": 8,
   "id": "e9b71213-15f7-4d1e-b78e-a60e2a460c17",
   "metadata": {},
   "outputs": [],
   "source": [
    "# Step 3: Locate the main content block by class name\n",
    "content_elements = driver.find_elements(By.CLASS_NAME, \"mw-parser-output\")"
   ]
  },
  {
   "cell_type": "code",
   "execution_count": 9,
   "id": "ff2329ab-44c3-4a23-a9a1-18f6cae6e32a",
   "metadata": {},
   "outputs": [],
   "source": [
    "# Step 4: Extract and join text from all child elements\n",
    "page_text = \"\"\n",
    "for element in content_elements:\n",
    "    page_text += element.text"
   ]
  },
  {
   "cell_type": "code",
   "execution_count": 10,
   "id": "5e9e63ff-1b5b-4d7d-9322-e05b7fd743de",
   "metadata": {},
   "outputs": [],
   "source": [
    "# Step 5: Save the content to a .txt file\n",
    "with open(\"key_events_20th_century.txt\", \"w\", encoding=\"utf-8\") as f:\n",
    "    f.write(page_text)"
   ]
  },
  {
   "cell_type": "code",
   "execution_count": 11,
   "id": "ec14d009-5fbe-4905-915f-6c2919d8c239",
   "metadata": {},
   "outputs": [],
   "source": [
    "# Step 6: Clean up\n",
    "driver.quit()"
   ]
  },
  {
   "cell_type": "code",
   "execution_count": null,
   "id": "c85da3ff-ed51-45a1-bd62-1eff776ff255",
   "metadata": {},
   "outputs": [],
   "source": []
  }
 ],
 "metadata": {
  "kernelspec": {
   "display_name": "Python [conda env:venv_20th_century]",
   "language": "python",
   "name": "conda-env-venv_20th_century-py"
  },
  "language_info": {
   "codemirror_mode": {
    "name": "ipython",
    "version": 3
   },
   "file_extension": ".py",
   "mimetype": "text/x-python",
   "name": "python",
   "nbconvert_exporter": "python",
   "pygments_lexer": "ipython3",
   "version": "3.13.5"
  }
 },
 "nbformat": 4,
 "nbformat_minor": 5
}
